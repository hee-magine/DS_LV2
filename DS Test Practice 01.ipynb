{
 "cells": [
  {
   "cell_type": "code",
   "execution_count": 7,
   "id": "371f3b2e",
   "metadata": {},
   "outputs": [],
   "source": [
    "import pandas as pd\n",
    "import numpy as np\n",
    "from sklearn.ensemble import RandomForestRegressor"
   ]
  },
  {
   "cell_type": "code",
   "execution_count": 107,
   "id": "0d4b58cb",
   "metadata": {},
   "outputs": [
    {
     "data": {
      "text/html": [
       "<div>\n",
       "<style scoped>\n",
       "    .dataframe tbody tr th:only-of-type {\n",
       "        vertical-align: middle;\n",
       "    }\n",
       "\n",
       "    .dataframe tbody tr th {\n",
       "        vertical-align: top;\n",
       "    }\n",
       "\n",
       "    .dataframe thead th {\n",
       "        text-align: right;\n",
       "    }\n",
       "</style>\n",
       "<table border=\"1\" class=\"dataframe\">\n",
       "  <thead>\n",
       "    <tr style=\"text-align: right;\">\n",
       "      <th></th>\n",
       "      <th>Product_Name</th>\n",
       "      <th>Stars</th>\n",
       "      <th>Ratings</th>\n",
       "      <th>Reviews</th>\n",
       "      <th>current_price</th>\n",
       "      <th>MRP</th>\n",
       "      <th>channel</th>\n",
       "      <th>Operating_system</th>\n",
       "      <th>Picture_quality</th>\n",
       "      <th>Speaker</th>\n",
       "      <th>Frequency</th>\n",
       "    </tr>\n",
       "  </thead>\n",
       "  <tbody>\n",
       "    <tr>\n",
       "      <th>0</th>\n",
       "      <td>Croma</td>\n",
       "      <td>4.2</td>\n",
       "      <td>1773</td>\n",
       "      <td>217</td>\n",
       "      <td>7990</td>\n",
       "      <td>20000</td>\n",
       "      <td>HD Ready 1366 x 768 Pixels</td>\n",
       "      <td>20 Speaker Output</td>\n",
       "      <td>60 Hz Refresh Rate</td>\n",
       "      <td>2 x HDMI | 2 x USB</td>\n",
       "      <td>1 Year Warranty</td>\n",
       "    </tr>\n",
       "    <tr>\n",
       "      <th>1</th>\n",
       "      <td>Adsun</td>\n",
       "      <td>3.8</td>\n",
       "      <td>6742</td>\n",
       "      <td>930</td>\n",
       "      <td>8699</td>\n",
       "      <td>21999</td>\n",
       "      <td>Netflix|Disney+Hotstar|Youtube</td>\n",
       "      <td>Operating System: Android Based</td>\n",
       "      <td>HD Ready 1366 x 768 Pixels</td>\n",
       "      <td>20 W Speaker Output</td>\n",
       "      <td>60 Hz Refresh Rate</td>\n",
       "    </tr>\n",
       "    <tr>\n",
       "      <th>2</th>\n",
       "      <td>LG</td>\n",
       "      <td>4.4</td>\n",
       "      <td>38870</td>\n",
       "      <td>3443</td>\n",
       "      <td>16499</td>\n",
       "      <td>21990</td>\n",
       "      <td>Netflix|Prime Video|Disney+Hotstar|Youtube</td>\n",
       "      <td>Operating System: WebOS</td>\n",
       "      <td>HD Ready 1366 x 768 Pixels</td>\n",
       "      <td>10 W Speaker Output</td>\n",
       "      <td>50 Hz Refresh Rate</td>\n",
       "    </tr>\n",
       "  </tbody>\n",
       "</table>\n",
       "</div>"
      ],
      "text/plain": [
       "  Product_Name  Stars  Ratings  Reviews  current_price    MRP  \\\n",
       "0        Croma    4.2     1773      217           7990  20000   \n",
       "1        Adsun    3.8     6742      930           8699  21999   \n",
       "2           LG    4.4    38870     3443          16499  21990   \n",
       "\n",
       "                                      channel  \\\n",
       "0                  HD Ready 1366 x 768 Pixels   \n",
       "1              Netflix|Disney+Hotstar|Youtube   \n",
       "2  Netflix|Prime Video|Disney+Hotstar|Youtube   \n",
       "\n",
       "                  Operating_system             Picture_quality  \\\n",
       "0                20 Speaker Output          60 Hz Refresh Rate   \n",
       "1  Operating System: Android Based  HD Ready 1366 x 768 Pixels   \n",
       "2          Operating System: WebOS  HD Ready 1366 x 768 Pixels   \n",
       "\n",
       "               Speaker           Frequency  \n",
       "0   2 x HDMI | 2 x USB     1 Year Warranty  \n",
       "1  20 W Speaker Output  60 Hz Refresh Rate  \n",
       "2  10 W Speaker Output  50 Hz Refresh Rate  "
      ]
     },
     "execution_count": 107,
     "metadata": {},
     "output_type": "execute_result"
    }
   ],
   "source": [
    "df = pd.read_csv(\"02_Test_Data_Set/TV.csv\")\n",
    "df.head(3)"
   ]
  },
  {
   "cell_type": "markdown",
   "id": "cd306f5b",
   "metadata": {},
   "source": [
    "## Q1."
   ]
  },
  {
   "cell_type": "code",
   "execution_count": 81,
   "id": "76375b69",
   "metadata": {},
   "outputs": [
    {
     "data": {
      "text/html": [
       "<div>\n",
       "<style scoped>\n",
       "    .dataframe tbody tr th:only-of-type {\n",
       "        vertical-align: middle;\n",
       "    }\n",
       "\n",
       "    .dataframe tbody tr th {\n",
       "        vertical-align: top;\n",
       "    }\n",
       "\n",
       "    .dataframe thead th {\n",
       "        text-align: right;\n",
       "    }\n",
       "</style>\n",
       "<table border=\"1\" class=\"dataframe\">\n",
       "  <thead>\n",
       "    <tr style=\"text-align: right;\">\n",
       "      <th></th>\n",
       "      <th>Picture_quality</th>\n",
       "      <th>Speaker</th>\n",
       "      <th>Frequency</th>\n",
       "    </tr>\n",
       "  </thead>\n",
       "  <tbody>\n",
       "    <tr>\n",
       "      <th>0</th>\n",
       "      <td>60 Hz Refresh Rate</td>\n",
       "      <td>2 x HDMI | 2 x USB</td>\n",
       "      <td>1 Year Warranty</td>\n",
       "    </tr>\n",
       "    <tr>\n",
       "      <th>1</th>\n",
       "      <td>HD Ready 1366 x 768 Pixels</td>\n",
       "      <td>20 W Speaker Output</td>\n",
       "      <td>60 Hz Refresh Rate</td>\n",
       "    </tr>\n",
       "    <tr>\n",
       "      <th>2</th>\n",
       "      <td>HD Ready 1366 x 768 Pixels</td>\n",
       "      <td>10 W Speaker Output</td>\n",
       "      <td>50 Hz Refresh Rate</td>\n",
       "    </tr>\n",
       "    <tr>\n",
       "      <th>3</th>\n",
       "      <td>HD Ready 1366 x 768 Pixels</td>\n",
       "      <td>20 W Speaker Output</td>\n",
       "      <td>60 Hz Refresh Rate</td>\n",
       "    </tr>\n",
       "    <tr>\n",
       "      <th>4</th>\n",
       "      <td>HD Ready 1366 x 768 Pixels</td>\n",
       "      <td>20 W Speaker Output</td>\n",
       "      <td>60 Hz Refresh Rate</td>\n",
       "    </tr>\n",
       "    <tr>\n",
       "      <th>5</th>\n",
       "      <td>HD Ready 1366 x 768 Pixels</td>\n",
       "      <td>20 W Speaker Output</td>\n",
       "      <td>60 Hz Refresh Rate</td>\n",
       "    </tr>\n",
       "    <tr>\n",
       "      <th>6</th>\n",
       "      <td>HD Ready 1366 x 768 Pixels</td>\n",
       "      <td>20 W Speaker Output</td>\n",
       "      <td>60 Hz Refresh Rate</td>\n",
       "    </tr>\n",
       "    <tr>\n",
       "      <th>7</th>\n",
       "      <td>HD Ready 1366 x 768 Pixels</td>\n",
       "      <td>20 Speaker Output</td>\n",
       "      <td>60 Hz Refresh Rate</td>\n",
       "    </tr>\n",
       "    <tr>\n",
       "      <th>8</th>\n",
       "      <td>Ultra HD (4K) 3840 x 2160 Pixels</td>\n",
       "      <td>20 W Speaker Output</td>\n",
       "      <td>60 Hz Refresh Rate</td>\n",
       "    </tr>\n",
       "    <tr>\n",
       "      <th>9</th>\n",
       "      <td>Full HD 1920 x 1080 Pixels</td>\n",
       "      <td>20 W Speaker Output</td>\n",
       "      <td>60 Hz Refresh Rate</td>\n",
       "    </tr>\n",
       "  </tbody>\n",
       "</table>\n",
       "</div>"
      ],
      "text/plain": [
       "                    Picture_quality              Speaker           Frequency\n",
       "0                60 Hz Refresh Rate   2 x HDMI | 2 x USB     1 Year Warranty\n",
       "1        HD Ready 1366 x 768 Pixels  20 W Speaker Output  60 Hz Refresh Rate\n",
       "2        HD Ready 1366 x 768 Pixels  10 W Speaker Output  50 Hz Refresh Rate\n",
       "3        HD Ready 1366 x 768 Pixels  20 W Speaker Output  60 Hz Refresh Rate\n",
       "4        HD Ready 1366 x 768 Pixels  20 W Speaker Output  60 Hz Refresh Rate\n",
       "5        HD Ready 1366 x 768 Pixels  20 W Speaker Output  60 Hz Refresh Rate\n",
       "6        HD Ready 1366 x 768 Pixels  20 W Speaker Output  60 Hz Refresh Rate\n",
       "7        HD Ready 1366 x 768 Pixels    20 Speaker Output  60 Hz Refresh Rate\n",
       "8  Ultra HD (4K) 3840 x 2160 Pixels  20 W Speaker Output  60 Hz Refresh Rate\n",
       "9        Full HD 1920 x 1080 Pixels  20 W Speaker Output  60 Hz Refresh Rate"
      ]
     },
     "execution_count": 81,
     "metadata": {},
     "output_type": "execute_result"
    }
   ],
   "source": [
    "df_sub1 = df[[\"Picture_quality\", \"Speaker\", \"Frequency\"]].reset_index(drop = True)\n",
    "df_sub1.head(10)"
   ]
  },
  {
   "cell_type": "code",
   "execution_count": 82,
   "id": "d4c54421",
   "metadata": {},
   "outputs": [
    {
     "data": {
      "text/plain": [
       "1      60 Hz Refresh Rate\n",
       "2      50 Hz Refresh Rate\n",
       "15    120 Hz Refresh Rate\n",
       "22    100 Hz Refresh Rate\n",
       "24    800 Hz Refresh Rate\n",
       "25    200 Hz Refresh Rate\n",
       "dtype: object"
      ]
     },
     "execution_count": 82,
     "metadata": {},
     "output_type": "execute_result"
    }
   ],
   "source": [
    "ser_u = pd.Series(df_sub1[\"Picture_quality\"].unique())\n",
    "ser_u = pd.Series(df_sub1[\"Speaker\"].unique())\n",
    "ser_u = pd.Series(df_sub1[\"Frequency\"].unique())\n",
    "ser_u[ser_u.str.contains(\"Hz\")]\n",
    "# ser_u[ser_u.str.contains(\"[0-9]{2,3}Hz\")]"
   ]
  },
  {
   "cell_type": "code",
   "execution_count": 83,
   "id": "ce07cc04",
   "metadata": {},
   "outputs": [
    {
     "data": {
      "text/html": [
       "<div>\n",
       "<style scoped>\n",
       "    .dataframe tbody tr th:only-of-type {\n",
       "        vertical-align: middle;\n",
       "    }\n",
       "\n",
       "    .dataframe tbody tr th {\n",
       "        vertical-align: top;\n",
       "    }\n",
       "\n",
       "    .dataframe thead th {\n",
       "        text-align: right;\n",
       "    }\n",
       "</style>\n",
       "<table border=\"1\" class=\"dataframe\">\n",
       "  <thead>\n",
       "    <tr style=\"text-align: right;\">\n",
       "      <th></th>\n",
       "      <th>Picture_quality</th>\n",
       "      <th>Speaker</th>\n",
       "      <th>Frequency</th>\n",
       "      <th>Hz_1</th>\n",
       "      <th>Hz_2</th>\n",
       "      <th>Hz_3</th>\n",
       "    </tr>\n",
       "  </thead>\n",
       "  <tbody>\n",
       "    <tr>\n",
       "      <th>0</th>\n",
       "      <td>60 Hz Refresh Rate</td>\n",
       "      <td>2 x HDMI | 2 x USB</td>\n",
       "      <td>1 Year Warranty</td>\n",
       "      <td>1</td>\n",
       "      <td>0</td>\n",
       "      <td>0</td>\n",
       "    </tr>\n",
       "    <tr>\n",
       "      <th>1</th>\n",
       "      <td>HD Ready 1366 x 768 Pixels</td>\n",
       "      <td>20 W Speaker Output</td>\n",
       "      <td>60 Hz Refresh Rate</td>\n",
       "      <td>0</td>\n",
       "      <td>0</td>\n",
       "      <td>1</td>\n",
       "    </tr>\n",
       "    <tr>\n",
       "      <th>2</th>\n",
       "      <td>HD Ready 1366 x 768 Pixels</td>\n",
       "      <td>10 W Speaker Output</td>\n",
       "      <td>50 Hz Refresh Rate</td>\n",
       "      <td>0</td>\n",
       "      <td>0</td>\n",
       "      <td>0</td>\n",
       "    </tr>\n",
       "    <tr>\n",
       "      <th>3</th>\n",
       "      <td>HD Ready 1366 x 768 Pixels</td>\n",
       "      <td>20 W Speaker Output</td>\n",
       "      <td>60 Hz Refresh Rate</td>\n",
       "      <td>0</td>\n",
       "      <td>0</td>\n",
       "      <td>1</td>\n",
       "    </tr>\n",
       "    <tr>\n",
       "      <th>4</th>\n",
       "      <td>HD Ready 1366 x 768 Pixels</td>\n",
       "      <td>20 W Speaker Output</td>\n",
       "      <td>60 Hz Refresh Rate</td>\n",
       "      <td>0</td>\n",
       "      <td>0</td>\n",
       "      <td>1</td>\n",
       "    </tr>\n",
       "  </tbody>\n",
       "</table>\n",
       "</div>"
      ],
      "text/plain": [
       "              Picture_quality              Speaker           Frequency  Hz_1  \\\n",
       "0          60 Hz Refresh Rate   2 x HDMI | 2 x USB     1 Year Warranty     1   \n",
       "1  HD Ready 1366 x 768 Pixels  20 W Speaker Output  60 Hz Refresh Rate     0   \n",
       "2  HD Ready 1366 x 768 Pixels  10 W Speaker Output  50 Hz Refresh Rate     0   \n",
       "3  HD Ready 1366 x 768 Pixels  20 W Speaker Output  60 Hz Refresh Rate     0   \n",
       "4  HD Ready 1366 x 768 Pixels  20 W Speaker Output  60 Hz Refresh Rate     0   \n",
       "\n",
       "   Hz_2  Hz_3  \n",
       "0     0     0  \n",
       "1     0     1  \n",
       "2     0     0  \n",
       "3     0     1  \n",
       "4     0     1  "
      ]
     },
     "execution_count": 83,
     "metadata": {},
     "output_type": "execute_result"
    }
   ],
   "source": [
    "# 60 Hz로 시작하거나 숫자(0~9)가 아닌 문자에 바로 이어서 60 Hz가 나오는 경우 (160 Hz, 260 Hz 등 필터링)\n",
    "# ^ : 그냥 나오면 앞에 아무것도 없음, []안에 들어가면 뒤에 딸려오는 조건을 반전시킨다(여집합)\n",
    "df_sub1[\"Hz_1\"] = df_sub1[\"Picture_quality\"].str.contains(\"^60 Hz|[^0-9]60 Hz\", regex = True) + 0\n",
    "df_sub1[\"Hz_2\"] = df_sub1[\"Speaker\"].str.contains(\"^60 Hz|[^0-9]60 Hz\", regex = True) + 0\n",
    "df_sub1[\"Hz_3\"] = df_sub1[\"Frequency\"].str.contains(\"^60 Hz|[^0-9]60 Hz\", regex = True) + 0\n",
    "df_sub1.head()"
   ]
  },
  {
   "cell_type": "code",
   "execution_count": 87,
   "id": "b88894c6",
   "metadata": {},
   "outputs": [
    {
     "data": {
      "text/plain": [
       "Hz_1     77\n",
       "Hz_2     10\n",
       "Hz_3    423\n",
       "dtype: int64"
      ]
     },
     "execution_count": 87,
     "metadata": {},
     "output_type": "execute_result"
    }
   ],
   "source": [
    "df_sub1[[\"Hz_1\", \"Hz_2\", \"Hz_3\"]].sum()"
   ]
  },
  {
   "cell_type": "code",
   "execution_count": 89,
   "id": "7ee07940",
   "metadata": {},
   "outputs": [
    {
     "data": {
      "text/html": [
       "<div>\n",
       "<style scoped>\n",
       "    .dataframe tbody tr th:only-of-type {\n",
       "        vertical-align: middle;\n",
       "    }\n",
       "\n",
       "    .dataframe tbody tr th {\n",
       "        vertical-align: top;\n",
       "    }\n",
       "\n",
       "    .dataframe thead th {\n",
       "        text-align: right;\n",
       "    }\n",
       "</style>\n",
       "<table border=\"1\" class=\"dataframe\">\n",
       "  <thead>\n",
       "    <tr style=\"text-align: right;\">\n",
       "      <th></th>\n",
       "      <th>Picture_quality</th>\n",
       "      <th>Speaker</th>\n",
       "      <th>Frequency</th>\n",
       "      <th>Hz_1</th>\n",
       "      <th>Hz_2</th>\n",
       "      <th>Hz_3</th>\n",
       "      <th>Hz_cnt</th>\n",
       "    </tr>\n",
       "  </thead>\n",
       "  <tbody>\n",
       "    <tr>\n",
       "      <th>0</th>\n",
       "      <td>60 Hz Refresh Rate</td>\n",
       "      <td>2 x HDMI | 2 x USB</td>\n",
       "      <td>1 Year Warranty</td>\n",
       "      <td>1</td>\n",
       "      <td>0</td>\n",
       "      <td>0</td>\n",
       "      <td>1</td>\n",
       "    </tr>\n",
       "    <tr>\n",
       "      <th>1</th>\n",
       "      <td>HD Ready 1366 x 768 Pixels</td>\n",
       "      <td>20 W Speaker Output</td>\n",
       "      <td>60 Hz Refresh Rate</td>\n",
       "      <td>0</td>\n",
       "      <td>0</td>\n",
       "      <td>1</td>\n",
       "      <td>1</td>\n",
       "    </tr>\n",
       "    <tr>\n",
       "      <th>2</th>\n",
       "      <td>HD Ready 1366 x 768 Pixels</td>\n",
       "      <td>10 W Speaker Output</td>\n",
       "      <td>50 Hz Refresh Rate</td>\n",
       "      <td>0</td>\n",
       "      <td>0</td>\n",
       "      <td>0</td>\n",
       "      <td>0</td>\n",
       "    </tr>\n",
       "    <tr>\n",
       "      <th>3</th>\n",
       "      <td>HD Ready 1366 x 768 Pixels</td>\n",
       "      <td>20 W Speaker Output</td>\n",
       "      <td>60 Hz Refresh Rate</td>\n",
       "      <td>0</td>\n",
       "      <td>0</td>\n",
       "      <td>1</td>\n",
       "      <td>1</td>\n",
       "    </tr>\n",
       "    <tr>\n",
       "      <th>4</th>\n",
       "      <td>HD Ready 1366 x 768 Pixels</td>\n",
       "      <td>20 W Speaker Output</td>\n",
       "      <td>60 Hz Refresh Rate</td>\n",
       "      <td>0</td>\n",
       "      <td>0</td>\n",
       "      <td>1</td>\n",
       "      <td>1</td>\n",
       "    </tr>\n",
       "  </tbody>\n",
       "</table>\n",
       "</div>"
      ],
      "text/plain": [
       "              Picture_quality              Speaker           Frequency  Hz_1  \\\n",
       "0          60 Hz Refresh Rate   2 x HDMI | 2 x USB     1 Year Warranty     1   \n",
       "1  HD Ready 1366 x 768 Pixels  20 W Speaker Output  60 Hz Refresh Rate     0   \n",
       "2  HD Ready 1366 x 768 Pixels  10 W Speaker Output  50 Hz Refresh Rate     0   \n",
       "3  HD Ready 1366 x 768 Pixels  20 W Speaker Output  60 Hz Refresh Rate     0   \n",
       "4  HD Ready 1366 x 768 Pixels  20 W Speaker Output  60 Hz Refresh Rate     0   \n",
       "\n",
       "   Hz_2  Hz_3  Hz_cnt  \n",
       "0     0     0       1  \n",
       "1     0     1       1  \n",
       "2     0     0       0  \n",
       "3     0     1       1  \n",
       "4     0     1       1  "
      ]
     },
     "execution_count": 89,
     "metadata": {},
     "output_type": "execute_result"
    }
   ],
   "source": [
    "df_sub1[\"Hz_cnt\"] = df_sub1[[\"Hz_1\", \"Hz_2\", \"Hz_3\"]].sum(axis = 1)\n",
    "df_sub1.head()"
   ]
  },
  {
   "cell_type": "code",
   "execution_count": 90,
   "id": "87ea25bc",
   "metadata": {},
   "outputs": [
    {
     "data": {
      "text/plain": [
       "1    510\n",
       "0    156\n",
       "Name: Hz_cnt, dtype: int64"
      ]
     },
     "execution_count": 90,
     "metadata": {},
     "output_type": "execute_result"
    }
   ],
   "source": [
    "df_sub1[\"Hz_cnt\"].value_counts()"
   ]
  },
  {
   "cell_type": "code",
   "execution_count": 98,
   "id": "51fe289e",
   "metadata": {},
   "outputs": [
    {
     "data": {
      "text/plain": [
       "1    510\n",
       "0    156\n",
       "dtype: int64"
      ]
     },
     "execution_count": 98,
     "metadata": {},
     "output_type": "execute_result"
    }
   ],
   "source": [
    "# lambda 사용한 풀이\n",
    "# df_sub1.iloc[:, :3].apply(lambda x : x.str.contains(\"60 Hz\").sum(), axis = 1).sum()\n",
    "df_sub1.iloc[:, :3].apply(lambda x : x.str.contains(\"60 Hz\").sum(), axis = 1).value_counts()"
   ]
  },
  {
   "cell_type": "code",
   "execution_count": 99,
   "id": "494b6c93",
   "metadata": {},
   "outputs": [
    {
     "data": {
      "text/html": [
       "<div>\n",
       "<style scoped>\n",
       "    .dataframe tbody tr th:only-of-type {\n",
       "        vertical-align: middle;\n",
       "    }\n",
       "\n",
       "    .dataframe tbody tr th {\n",
       "        vertical-align: top;\n",
       "    }\n",
       "\n",
       "    .dataframe thead th {\n",
       "        text-align: right;\n",
       "    }\n",
       "</style>\n",
       "<table border=\"1\" class=\"dataframe\">\n",
       "  <thead>\n",
       "    <tr style=\"text-align: right;\">\n",
       "      <th></th>\n",
       "      <th>Picture_quality</th>\n",
       "      <th>Speaker</th>\n",
       "      <th>Frequency</th>\n",
       "      <th>Hz_1</th>\n",
       "      <th>Hz_2</th>\n",
       "      <th>Hz_3</th>\n",
       "      <th>Hz_cnt</th>\n",
       "    </tr>\n",
       "  </thead>\n",
       "  <tbody>\n",
       "    <tr>\n",
       "      <th>0</th>\n",
       "      <td>60 Hz Refresh Rate</td>\n",
       "      <td>2 x HDMI | 2 x USB</td>\n",
       "      <td>1 Year Warranty</td>\n",
       "      <td>60</td>\n",
       "      <td>0</td>\n",
       "      <td>0</td>\n",
       "      <td>1</td>\n",
       "    </tr>\n",
       "    <tr>\n",
       "      <th>1</th>\n",
       "      <td>HD Ready 1366 x 768 Pixels</td>\n",
       "      <td>20 W Speaker Output</td>\n",
       "      <td>60 Hz Refresh Rate</td>\n",
       "      <td>0</td>\n",
       "      <td>0</td>\n",
       "      <td>60</td>\n",
       "      <td>1</td>\n",
       "    </tr>\n",
       "    <tr>\n",
       "      <th>2</th>\n",
       "      <td>HD Ready 1366 x 768 Pixels</td>\n",
       "      <td>10 W Speaker Output</td>\n",
       "      <td>50 Hz Refresh Rate</td>\n",
       "      <td>0</td>\n",
       "      <td>0</td>\n",
       "      <td>50</td>\n",
       "      <td>0</td>\n",
       "    </tr>\n",
       "    <tr>\n",
       "      <th>3</th>\n",
       "      <td>HD Ready 1366 x 768 Pixels</td>\n",
       "      <td>20 W Speaker Output</td>\n",
       "      <td>60 Hz Refresh Rate</td>\n",
       "      <td>0</td>\n",
       "      <td>0</td>\n",
       "      <td>60</td>\n",
       "      <td>1</td>\n",
       "    </tr>\n",
       "    <tr>\n",
       "      <th>4</th>\n",
       "      <td>HD Ready 1366 x 768 Pixels</td>\n",
       "      <td>20 W Speaker Output</td>\n",
       "      <td>60 Hz Refresh Rate</td>\n",
       "      <td>0</td>\n",
       "      <td>0</td>\n",
       "      <td>60</td>\n",
       "      <td>1</td>\n",
       "    </tr>\n",
       "  </tbody>\n",
       "</table>\n",
       "</div>"
      ],
      "text/plain": [
       "              Picture_quality              Speaker           Frequency  Hz_1  \\\n",
       "0          60 Hz Refresh Rate   2 x HDMI | 2 x USB     1 Year Warranty    60   \n",
       "1  HD Ready 1366 x 768 Pixels  20 W Speaker Output  60 Hz Refresh Rate     0   \n",
       "2  HD Ready 1366 x 768 Pixels  10 W Speaker Output  50 Hz Refresh Rate     0   \n",
       "3  HD Ready 1366 x 768 Pixels  20 W Speaker Output  60 Hz Refresh Rate     0   \n",
       "4  HD Ready 1366 x 768 Pixels  20 W Speaker Output  60 Hz Refresh Rate     0   \n",
       "\n",
       "   Hz_2  Hz_3  Hz_cnt  \n",
       "0     0     0       1  \n",
       "1     0    60       1  \n",
       "2     0    50       0  \n",
       "3     0    60       1  \n",
       "4     0    60       1  "
      ]
     },
     "execution_count": 99,
     "metadata": {},
     "output_type": "execute_result"
    }
   ],
   "source": [
    "# extract 사용한 풀이\n",
    "df_sub1[\"Hz_1\"] = df_sub1[\"Picture_quality\"].str.extract(\"([0-9]{2,3}) Hz\").fillna(0).astype(\"int\")\n",
    "df_sub1[\"Hz_2\"] = df_sub1[\"Speaker\"].str.extract(\"([0-9]{2,3}) Hz\").fillna(0).astype(\"int\")\n",
    "df_sub1[\"Hz_3\"] = df_sub1[\"Frequency\"].str.extract(\"([0-9]{2,3}) Hz\").fillna(0).astype(\"int\")\n",
    "df_sub1.head()"
   ]
  },
  {
   "cell_type": "code",
   "execution_count": 16,
   "id": "85426020",
   "metadata": {
    "scrolled": true
   },
   "outputs": [
    {
     "name": "stderr",
     "output_type": "stream",
     "text": [
      "/home/heesandv/miniconda3/envs/datascience/lib/python3.7/site-packages/ipykernel_launcher.py:3: SettingWithCopyWarning: \n",
      "A value is trying to be set on a copy of a slice from a DataFrame.\n",
      "Try using .loc[row_indexer,col_indexer] = value instead\n",
      "\n",
      "See the caveats in the documentation: https://pandas.pydata.org/pandas-docs/stable/user_guide/indexing.html#returning-a-view-versus-a-copy\n",
      "  This is separate from the ipykernel package so we can avoid doing imports until\n"
     ]
    },
    {
     "data": {
      "text/html": [
       "<div>\n",
       "<style scoped>\n",
       "    .dataframe tbody tr th:only-of-type {\n",
       "        vertical-align: middle;\n",
       "    }\n",
       "\n",
       "    .dataframe tbody tr th {\n",
       "        vertical-align: top;\n",
       "    }\n",
       "\n",
       "    .dataframe thead th {\n",
       "        text-align: right;\n",
       "    }\n",
       "</style>\n",
       "<table border=\"1\" class=\"dataframe\">\n",
       "  <thead>\n",
       "    <tr style=\"text-align: right;\">\n",
       "      <th></th>\n",
       "      <th>Picture_quality</th>\n",
       "      <th>Speaker</th>\n",
       "      <th>Frequency</th>\n",
       "    </tr>\n",
       "  </thead>\n",
       "  <tbody>\n",
       "    <tr>\n",
       "      <th>0</th>\n",
       "      <td>60 Hz Refresh Rate</td>\n",
       "      <td>2 x HDMI | 2 x USB</td>\n",
       "      <td>60 Hz Refresh Rate</td>\n",
       "    </tr>\n",
       "    <tr>\n",
       "      <th>1</th>\n",
       "      <td>HD Ready 1366 x 768 Pixels</td>\n",
       "      <td>20 W Speaker Output</td>\n",
       "      <td>60 Hz Refresh Rate</td>\n",
       "    </tr>\n",
       "    <tr>\n",
       "      <th>2</th>\n",
       "      <td>HD Ready 1366 x 768 Pixels</td>\n",
       "      <td>10 W Speaker Output</td>\n",
       "      <td>50 Hz Refresh Rate</td>\n",
       "    </tr>\n",
       "    <tr>\n",
       "      <th>3</th>\n",
       "      <td>HD Ready 1366 x 768 Pixels</td>\n",
       "      <td>20 W Speaker Output</td>\n",
       "      <td>60 Hz Refresh Rate</td>\n",
       "    </tr>\n",
       "    <tr>\n",
       "      <th>4</th>\n",
       "      <td>HD Ready 1366 x 768 Pixels</td>\n",
       "      <td>20 W Speaker Output</td>\n",
       "      <td>60 Hz Refresh Rate</td>\n",
       "    </tr>\n",
       "    <tr>\n",
       "      <th>5</th>\n",
       "      <td>HD Ready 1366 x 768 Pixels</td>\n",
       "      <td>20 W Speaker Output</td>\n",
       "      <td>60 Hz Refresh Rate</td>\n",
       "    </tr>\n",
       "    <tr>\n",
       "      <th>6</th>\n",
       "      <td>HD Ready 1366 x 768 Pixels</td>\n",
       "      <td>20 W Speaker Output</td>\n",
       "      <td>60 Hz Refresh Rate</td>\n",
       "    </tr>\n",
       "    <tr>\n",
       "      <th>7</th>\n",
       "      <td>HD Ready 1366 x 768 Pixels</td>\n",
       "      <td>20 Speaker Output</td>\n",
       "      <td>60 Hz Refresh Rate</td>\n",
       "    </tr>\n",
       "    <tr>\n",
       "      <th>8</th>\n",
       "      <td>Ultra HD (4K) 3840 x 2160 Pixels</td>\n",
       "      <td>20 W Speaker Output</td>\n",
       "      <td>60 Hz Refresh Rate</td>\n",
       "    </tr>\n",
       "    <tr>\n",
       "      <th>9</th>\n",
       "      <td>Full HD 1920 x 1080 Pixels</td>\n",
       "      <td>20 W Speaker Output</td>\n",
       "      <td>60 Hz Refresh Rate</td>\n",
       "    </tr>\n",
       "  </tbody>\n",
       "</table>\n",
       "</div>"
      ],
      "text/plain": [
       "                    Picture_quality              Speaker           Frequency\n",
       "0                60 Hz Refresh Rate   2 x HDMI | 2 x USB  60 Hz Refresh Rate\n",
       "1        HD Ready 1366 x 768 Pixels  20 W Speaker Output  60 Hz Refresh Rate\n",
       "2        HD Ready 1366 x 768 Pixels  10 W Speaker Output  50 Hz Refresh Rate\n",
       "3        HD Ready 1366 x 768 Pixels  20 W Speaker Output  60 Hz Refresh Rate\n",
       "4        HD Ready 1366 x 768 Pixels  20 W Speaker Output  60 Hz Refresh Rate\n",
       "5        HD Ready 1366 x 768 Pixels  20 W Speaker Output  60 Hz Refresh Rate\n",
       "6        HD Ready 1366 x 768 Pixels  20 W Speaker Output  60 Hz Refresh Rate\n",
       "7        HD Ready 1366 x 768 Pixels    20 Speaker Output  60 Hz Refresh Rate\n",
       "8  Ultra HD (4K) 3840 x 2160 Pixels  20 W Speaker Output  60 Hz Refresh Rate\n",
       "9        Full HD 1920 x 1080 Pixels  20 W Speaker Output  60 Hz Refresh Rate"
      ]
     },
     "execution_count": 16,
     "metadata": {},
     "output_type": "execute_result"
    }
   ],
   "source": [
    "df_sub1[\"Frequency\"] = np.where(df_sub1[\"Picture_quality\"].str.contains(\" Hz \"),\n",
    "                           df_sub1[\"Picture_quality\"],\n",
    "                           df_sub1[\"Frequency\"])\n",
    "df_sub1.head(10)"
   ]
  },
  {
   "cell_type": "code",
   "execution_count": 78,
   "id": "2e72e25f",
   "metadata": {},
   "outputs": [
    {
     "data": {
      "text/html": [
       "<div>\n",
       "<style scoped>\n",
       "    .dataframe tbody tr th:only-of-type {\n",
       "        vertical-align: middle;\n",
       "    }\n",
       "\n",
       "    .dataframe tbody tr th {\n",
       "        vertical-align: top;\n",
       "    }\n",
       "\n",
       "    .dataframe thead th {\n",
       "        text-align: right;\n",
       "    }\n",
       "</style>\n",
       "<table border=\"1\" class=\"dataframe\">\n",
       "  <thead>\n",
       "    <tr style=\"text-align: right;\">\n",
       "      <th></th>\n",
       "      <th>Picture_quality</th>\n",
       "      <th>Speaker</th>\n",
       "      <th>Frequency</th>\n",
       "      <th>Hz_1</th>\n",
       "      <th>Hz_2</th>\n",
       "      <th>Hz_3</th>\n",
       "    </tr>\n",
       "  </thead>\n",
       "  <tbody>\n",
       "    <tr>\n",
       "      <th>0</th>\n",
       "      <td>60 Hz Refresh Rate</td>\n",
       "      <td>2 x HDMI | 2 x USB</td>\n",
       "      <td>1 Year Warranty</td>\n",
       "      <td>1</td>\n",
       "      <td>0</td>\n",
       "      <td>0</td>\n",
       "    </tr>\n",
       "    <tr>\n",
       "      <th>1</th>\n",
       "      <td>HD Ready 1366 x 768 Pixels</td>\n",
       "      <td>20 W Speaker Output</td>\n",
       "      <td>60 Hz Refresh Rate</td>\n",
       "      <td>0</td>\n",
       "      <td>0</td>\n",
       "      <td>1</td>\n",
       "    </tr>\n",
       "    <tr>\n",
       "      <th>2</th>\n",
       "      <td>HD Ready 1366 x 768 Pixels</td>\n",
       "      <td>10 W Speaker Output</td>\n",
       "      <td>50 Hz Refresh Rate</td>\n",
       "      <td>0</td>\n",
       "      <td>0</td>\n",
       "      <td>0</td>\n",
       "    </tr>\n",
       "    <tr>\n",
       "      <th>3</th>\n",
       "      <td>HD Ready 1366 x 768 Pixels</td>\n",
       "      <td>20 W Speaker Output</td>\n",
       "      <td>60 Hz Refresh Rate</td>\n",
       "      <td>0</td>\n",
       "      <td>0</td>\n",
       "      <td>1</td>\n",
       "    </tr>\n",
       "    <tr>\n",
       "      <th>4</th>\n",
       "      <td>HD Ready 1366 x 768 Pixels</td>\n",
       "      <td>20 W Speaker Output</td>\n",
       "      <td>60 Hz Refresh Rate</td>\n",
       "      <td>0</td>\n",
       "      <td>0</td>\n",
       "      <td>1</td>\n",
       "    </tr>\n",
       "  </tbody>\n",
       "</table>\n",
       "</div>"
      ],
      "text/plain": [
       "              Picture_quality              Speaker           Frequency  Hz_1  \\\n",
       "0          60 Hz Refresh Rate   2 x HDMI | 2 x USB     1 Year Warranty     1   \n",
       "1  HD Ready 1366 x 768 Pixels  20 W Speaker Output  60 Hz Refresh Rate     0   \n",
       "2  HD Ready 1366 x 768 Pixels  10 W Speaker Output  50 Hz Refresh Rate     0   \n",
       "3  HD Ready 1366 x 768 Pixels  20 W Speaker Output  60 Hz Refresh Rate     0   \n",
       "4  HD Ready 1366 x 768 Pixels  20 W Speaker Output  60 Hz Refresh Rate     0   \n",
       "\n",
       "   Hz_2  Hz_3  \n",
       "0     0     0  \n",
       "1     0     1  \n",
       "2     0     0  \n",
       "3     0     1  \n",
       "4     0     1  "
      ]
     },
     "execution_count": 78,
     "metadata": {},
     "output_type": "execute_result"
    }
   ],
   "source": [
    "df_sub1[df_sub1[\"Speaker\"].str.contains(\" Hz \")]"
   ]
  },
  {
   "cell_type": "code",
   "execution_count": 18,
   "id": "e6a1a492",
   "metadata": {},
   "outputs": [
    {
     "name": "stderr",
     "output_type": "stream",
     "text": [
      "/home/heesandv/miniconda3/envs/datascience/lib/python3.7/site-packages/ipykernel_launcher.py:3: SettingWithCopyWarning: \n",
      "A value is trying to be set on a copy of a slice from a DataFrame.\n",
      "Try using .loc[row_indexer,col_indexer] = value instead\n",
      "\n",
      "See the caveats in the documentation: https://pandas.pydata.org/pandas-docs/stable/user_guide/indexing.html#returning-a-view-versus-a-copy\n",
      "  This is separate from the ipykernel package so we can avoid doing imports until\n"
     ]
    },
    {
     "data": {
      "text/html": [
       "<div>\n",
       "<style scoped>\n",
       "    .dataframe tbody tr th:only-of-type {\n",
       "        vertical-align: middle;\n",
       "    }\n",
       "\n",
       "    .dataframe tbody tr th {\n",
       "        vertical-align: top;\n",
       "    }\n",
       "\n",
       "    .dataframe thead th {\n",
       "        text-align: right;\n",
       "    }\n",
       "</style>\n",
       "<table border=\"1\" class=\"dataframe\">\n",
       "  <thead>\n",
       "    <tr style=\"text-align: right;\">\n",
       "      <th></th>\n",
       "      <th>Picture_quality</th>\n",
       "      <th>Speaker</th>\n",
       "      <th>Frequency</th>\n",
       "    </tr>\n",
       "  </thead>\n",
       "  <tbody>\n",
       "    <tr>\n",
       "      <th>158</th>\n",
       "      <td>24W Speaker Output</td>\n",
       "      <td>60 Hz Refresh Rate</td>\n",
       "      <td>60 Hz Refresh Rate</td>\n",
       "    </tr>\n",
       "    <tr>\n",
       "      <th>196</th>\n",
       "      <td>24W Speaker Output</td>\n",
       "      <td>60 Hz Refresh Rate</td>\n",
       "      <td>60 Hz Refresh Rate</td>\n",
       "    </tr>\n",
       "    <tr>\n",
       "      <th>242</th>\n",
       "      <td>20 W Speaker Output</td>\n",
       "      <td>50 Hz Refresh Rate</td>\n",
       "      <td>50 Hz Refresh Rate</td>\n",
       "    </tr>\n",
       "    <tr>\n",
       "      <th>297</th>\n",
       "      <td>16 W Speaker Output</td>\n",
       "      <td>60 Hz Refresh Rate</td>\n",
       "      <td>60 Hz Refresh Rate</td>\n",
       "    </tr>\n",
       "    <tr>\n",
       "      <th>315</th>\n",
       "      <td>20 W Speaker Output</td>\n",
       "      <td>60 Hz Refresh Rate</td>\n",
       "      <td>60 Hz Refresh Rate</td>\n",
       "    </tr>\n",
       "    <tr>\n",
       "      <th>344</th>\n",
       "      <td>40 W Speaker Output</td>\n",
       "      <td>60 Hz Refresh Rate</td>\n",
       "      <td>60 Hz Refresh Rate</td>\n",
       "    </tr>\n",
       "    <tr>\n",
       "      <th>378</th>\n",
       "      <td>16W Speaker Output</td>\n",
       "      <td>60 Hz Refresh Rate</td>\n",
       "      <td>60 Hz Refresh Rate</td>\n",
       "    </tr>\n",
       "    <tr>\n",
       "      <th>393</th>\n",
       "      <td>40 W Speaker Output</td>\n",
       "      <td>200 Hz Refresh Rate</td>\n",
       "      <td>200 Hz Refresh Rate</td>\n",
       "    </tr>\n",
       "    <tr>\n",
       "      <th>398</th>\n",
       "      <td>16 W Speaker Output</td>\n",
       "      <td>60 Hz Refresh Rate</td>\n",
       "      <td>60 Hz Refresh Rate</td>\n",
       "    </tr>\n",
       "    <tr>\n",
       "      <th>419</th>\n",
       "      <td>20 W Speaker Output</td>\n",
       "      <td>50 Hz Refresh Rate</td>\n",
       "      <td>50 Hz Refresh Rate</td>\n",
       "    </tr>\n",
       "    <tr>\n",
       "      <th>425</th>\n",
       "      <td>20 W Speaker Output</td>\n",
       "      <td>50 Hz Refresh Rate</td>\n",
       "      <td>50 Hz Refresh Rate</td>\n",
       "    </tr>\n",
       "    <tr>\n",
       "      <th>444</th>\n",
       "      <td>20 W Speaker Output</td>\n",
       "      <td>120 Hz Refresh Rate</td>\n",
       "      <td>120 Hz Refresh Rate</td>\n",
       "    </tr>\n",
       "    <tr>\n",
       "      <th>449</th>\n",
       "      <td>20 W Speaker Output</td>\n",
       "      <td>100 Hz Refresh Rate</td>\n",
       "      <td>100 Hz Refresh Rate</td>\n",
       "    </tr>\n",
       "    <tr>\n",
       "      <th>452</th>\n",
       "      <td>20 W Speaker Output</td>\n",
       "      <td>200 Hz Refresh Rate</td>\n",
       "      <td>200 Hz Refresh Rate</td>\n",
       "    </tr>\n",
       "    <tr>\n",
       "      <th>456</th>\n",
       "      <td>20 Speaker Output</td>\n",
       "      <td>60 Hz Refresh Rate</td>\n",
       "      <td>60 Hz Refresh Rate</td>\n",
       "    </tr>\n",
       "    <tr>\n",
       "      <th>480</th>\n",
       "      <td>20 W Speaker Output</td>\n",
       "      <td>50 Hz Refresh Rate</td>\n",
       "      <td>50 Hz Refresh Rate</td>\n",
       "    </tr>\n",
       "    <tr>\n",
       "      <th>508</th>\n",
       "      <td>20 W Speaker Output</td>\n",
       "      <td>50 Hz Refresh Rate</td>\n",
       "      <td>50 Hz Refresh Rate</td>\n",
       "    </tr>\n",
       "    <tr>\n",
       "      <th>513</th>\n",
       "      <td>16 W Speaker Output</td>\n",
       "      <td>60 Hz Refresh Rate</td>\n",
       "      <td>60 Hz Refresh Rate</td>\n",
       "    </tr>\n",
       "    <tr>\n",
       "      <th>520</th>\n",
       "      <td>16 W Speaker Output</td>\n",
       "      <td>60 Hz Refresh Rate</td>\n",
       "      <td>60 Hz Refresh Rate</td>\n",
       "    </tr>\n",
       "    <tr>\n",
       "      <th>633</th>\n",
       "      <td>20 W Speaker Output</td>\n",
       "      <td>200 Hz Refresh Rate</td>\n",
       "      <td>200 Hz Refresh Rate</td>\n",
       "    </tr>\n",
       "    <tr>\n",
       "      <th>650</th>\n",
       "      <td>16 W Speaker Output</td>\n",
       "      <td>50 Hz Refresh Rate</td>\n",
       "      <td>50 Hz Refresh Rate</td>\n",
       "    </tr>\n",
       "    <tr>\n",
       "      <th>653</th>\n",
       "      <td>16 W Speaker Output</td>\n",
       "      <td>50 Hz Refresh Rate</td>\n",
       "      <td>50 Hz Refresh Rate</td>\n",
       "    </tr>\n",
       "    <tr>\n",
       "      <th>664</th>\n",
       "      <td>16 Speaker Output</td>\n",
       "      <td>50 Hz Refresh Rate</td>\n",
       "      <td>50 Hz Refresh Rate</td>\n",
       "    </tr>\n",
       "  </tbody>\n",
       "</table>\n",
       "</div>"
      ],
      "text/plain": [
       "         Picture_quality              Speaker            Frequency\n",
       "158   24W Speaker Output   60 Hz Refresh Rate   60 Hz Refresh Rate\n",
       "196   24W Speaker Output   60 Hz Refresh Rate   60 Hz Refresh Rate\n",
       "242  20 W Speaker Output   50 Hz Refresh Rate   50 Hz Refresh Rate\n",
       "297  16 W Speaker Output   60 Hz Refresh Rate   60 Hz Refresh Rate\n",
       "315  20 W Speaker Output   60 Hz Refresh Rate   60 Hz Refresh Rate\n",
       "344  40 W Speaker Output   60 Hz Refresh Rate   60 Hz Refresh Rate\n",
       "378   16W Speaker Output   60 Hz Refresh Rate   60 Hz Refresh Rate\n",
       "393  40 W Speaker Output  200 Hz Refresh Rate  200 Hz Refresh Rate\n",
       "398  16 W Speaker Output   60 Hz Refresh Rate   60 Hz Refresh Rate\n",
       "419  20 W Speaker Output   50 Hz Refresh Rate   50 Hz Refresh Rate\n",
       "425  20 W Speaker Output   50 Hz Refresh Rate   50 Hz Refresh Rate\n",
       "444  20 W Speaker Output  120 Hz Refresh Rate  120 Hz Refresh Rate\n",
       "449  20 W Speaker Output  100 Hz Refresh Rate  100 Hz Refresh Rate\n",
       "452  20 W Speaker Output  200 Hz Refresh Rate  200 Hz Refresh Rate\n",
       "456    20 Speaker Output   60 Hz Refresh Rate   60 Hz Refresh Rate\n",
       "480  20 W Speaker Output   50 Hz Refresh Rate   50 Hz Refresh Rate\n",
       "508  20 W Speaker Output   50 Hz Refresh Rate   50 Hz Refresh Rate\n",
       "513  16 W Speaker Output   60 Hz Refresh Rate   60 Hz Refresh Rate\n",
       "520  16 W Speaker Output   60 Hz Refresh Rate   60 Hz Refresh Rate\n",
       "633  20 W Speaker Output  200 Hz Refresh Rate  200 Hz Refresh Rate\n",
       "650  16 W Speaker Output   50 Hz Refresh Rate   50 Hz Refresh Rate\n",
       "653  16 W Speaker Output   50 Hz Refresh Rate   50 Hz Refresh Rate\n",
       "664    16 Speaker Output   50 Hz Refresh Rate   50 Hz Refresh Rate"
      ]
     },
     "execution_count": 18,
     "metadata": {},
     "output_type": "execute_result"
    }
   ],
   "source": [
    "df_sub1[\"Frequency\"] = np.where(df_sub1[\"Speaker\"].str.contains(\" Hz \"),\n",
    "                           df_sub1[\"Speaker\"],\n",
    "                           df_sub1[\"Frequency\"])\n",
    "df_sub1[df_sub1[\"Speaker\"].str.contains(\" Hz \")]"
   ]
  },
  {
   "cell_type": "code",
   "execution_count": 20,
   "id": "43b0d8e2",
   "metadata": {},
   "outputs": [
    {
     "name": "stdout",
     "output_type": "stream",
     "text": [
      "<class 'pandas.core.frame.DataFrame'>\n",
      "RangeIndex: 666 entries, 0 to 665\n",
      "Data columns (total 3 columns):\n",
      " #   Column           Non-Null Count  Dtype \n",
      "---  ------           --------------  ----- \n",
      " 0   Picture_quality  666 non-null    object\n",
      " 1   Speaker          666 non-null    object\n",
      " 2   Frequency        666 non-null    object\n",
      "dtypes: object(3)\n",
      "memory usage: 15.7+ KB\n"
     ]
    }
   ],
   "source": [
    "df_sub1.info()"
   ]
  },
  {
   "cell_type": "code",
   "execution_count": 21,
   "id": "42f8f613",
   "metadata": {},
   "outputs": [
    {
     "name": "stdout",
     "output_type": "stream",
     "text": [
      "<class 'pandas.core.frame.DataFrame'>\n",
      "RangeIndex: 666 entries, 0 to 665\n",
      "Data columns (total 3 columns):\n",
      " #   Column           Non-Null Count  Dtype \n",
      "---  ------           --------------  ----- \n",
      " 0   Picture_quality  666 non-null    object\n",
      " 1   Speaker          666 non-null    object\n",
      " 2   Frequency        666 non-null    object\n",
      "dtypes: object(3)\n",
      "memory usage: 15.7+ KB\n"
     ]
    }
   ],
   "source": [
    "df_sub1.dropna()\n",
    "df_sub1.info()"
   ]
  },
  {
   "cell_type": "code",
   "execution_count": 69,
   "id": "c5528762",
   "metadata": {},
   "outputs": [
    {
     "data": {
      "text/plain": [
       "Picture_quality    510\n",
       "Speaker            510\n",
       "Frequency          510\n",
       "dtype: int64"
      ]
     },
     "execution_count": 69,
     "metadata": {},
     "output_type": "execute_result"
    }
   ],
   "source": [
    "df_sub1[df_sub1[\"Frequency\"].str.contains(\"60 Hz\")].count()"
   ]
  },
  {
   "cell_type": "markdown",
   "id": "ad339ae7",
   "metadata": {},
   "source": [
    "## Q2."
   ]
  },
  {
   "cell_type": "code",
   "execution_count": 60,
   "id": "99ffb827",
   "metadata": {},
   "outputs": [
    {
     "data": {
      "text/html": [
       "<div>\n",
       "<style scoped>\n",
       "    .dataframe tbody tr th:only-of-type {\n",
       "        vertical-align: middle;\n",
       "    }\n",
       "\n",
       "    .dataframe tbody tr th {\n",
       "        vertical-align: top;\n",
       "    }\n",
       "\n",
       "    .dataframe thead th {\n",
       "        text-align: right;\n",
       "    }\n",
       "</style>\n",
       "<table border=\"1\" class=\"dataframe\">\n",
       "  <thead>\n",
       "    <tr style=\"text-align: right;\">\n",
       "      <th></th>\n",
       "      <th>Stars</th>\n",
       "      <th>Picture_quality</th>\n",
       "      <th>Operating_system</th>\n",
       "      <th>channel</th>\n",
       "    </tr>\n",
       "  </thead>\n",
       "  <tbody>\n",
       "    <tr>\n",
       "      <th>0</th>\n",
       "      <td>4.2</td>\n",
       "      <td>60 Hz Refresh Rate</td>\n",
       "      <td>20 Speaker Output</td>\n",
       "      <td>HD Ready 1366 x 768 Pixels</td>\n",
       "    </tr>\n",
       "    <tr>\n",
       "      <th>1</th>\n",
       "      <td>3.8</td>\n",
       "      <td>HD Ready 1366 x 768 Pixels</td>\n",
       "      <td>Operating System: Android Based</td>\n",
       "      <td>Netflix|Disney+Hotstar|Youtube</td>\n",
       "    </tr>\n",
       "    <tr>\n",
       "      <th>2</th>\n",
       "      <td>4.4</td>\n",
       "      <td>HD Ready 1366 x 768 Pixels</td>\n",
       "      <td>Operating System: WebOS</td>\n",
       "      <td>Netflix|Prime Video|Disney+Hotstar|Youtube</td>\n",
       "    </tr>\n",
       "    <tr>\n",
       "      <th>3</th>\n",
       "      <td>4.3</td>\n",
       "      <td>HD Ready 1366 x 768 Pixels</td>\n",
       "      <td>Operating System: Android</td>\n",
       "      <td>Netflix|Prime Video|Disney+Hotstar|Youtube</td>\n",
       "    </tr>\n",
       "    <tr>\n",
       "      <th>4</th>\n",
       "      <td>4.3</td>\n",
       "      <td>HD Ready 1366 x 768 Pixels</td>\n",
       "      <td>Operating System: Android</td>\n",
       "      <td>Netflix|Prime Video|Disney+Hotstar|Youtube</td>\n",
       "    </tr>\n",
       "  </tbody>\n",
       "</table>\n",
       "</div>"
      ],
      "text/plain": [
       "   Stars             Picture_quality                 Operating_system  \\\n",
       "0    4.2          60 Hz Refresh Rate                20 Speaker Output   \n",
       "1    3.8  HD Ready 1366 x 768 Pixels  Operating System: Android Based   \n",
       "2    4.4  HD Ready 1366 x 768 Pixels          Operating System: WebOS   \n",
       "3    4.3  HD Ready 1366 x 768 Pixels        Operating System: Android   \n",
       "4    4.3  HD Ready 1366 x 768 Pixels        Operating System: Android   \n",
       "\n",
       "                                      channel  \n",
       "0                  HD Ready 1366 x 768 Pixels  \n",
       "1              Netflix|Disney+Hotstar|Youtube  \n",
       "2  Netflix|Prime Video|Disney+Hotstar|Youtube  \n",
       "3  Netflix|Prime Video|Disney+Hotstar|Youtube  \n",
       "4  Netflix|Prime Video|Disney+Hotstar|Youtube  "
      ]
     },
     "execution_count": 60,
     "metadata": {},
     "output_type": "execute_result"
    }
   ],
   "source": [
    "df_sub2 = df[[\"Stars\", \"Picture_quality\", \"Operating_system\", \"channel\"]]\n",
    "df_sub2.head()"
   ]
  },
  {
   "cell_type": "code",
   "execution_count": 103,
   "id": "85f3896d",
   "metadata": {},
   "outputs": [
    {
     "data": {
      "text/plain": [
       "2                      Ultra HD (4K) 3840 x 2160 Pixels\n",
       "4     Ultra HD (4K) Crystal 4K FE UHD (3840 x 2160) ...\n",
       "7                        Ultra HD (4K) 3840×2160 Pixels\n",
       "9                      Ultra HD (4K) 3860 x 2160 Pixels\n",
       "10                       Ultra HD (4K) 3840X2160 Pixels\n",
       "12                     Ultra HD (4K) 3840 × 2160 Pixels\n",
       "13                       Ultra HD (4K) 3840*2160 Pixels\n",
       "14                       Ultra HD (4K) 3840x2160 Pixels\n",
       "28                     Ultra HD (8K) 7680 x 4320 Pixels\n",
       "34                     Ultra HD (4K) 3840 � 2160 Pixels\n",
       "dtype: object"
      ]
     },
     "execution_count": 103,
     "metadata": {},
     "output_type": "execute_result"
    }
   ],
   "source": [
    "ser_u = pd.Series(df_sub2[\"Operating_system\"].unique())\n",
    "ser_u = pd.Series(df_sub2[\"channel\"         ].unique())\n",
    "ser_u = pd.Series(df_sub2[\"Picture_quality\" ].unique())\n",
    "ser_u[ser_u.str.contains(\"4K|8K\")]"
   ]
  },
  {
   "cell_type": "code",
   "execution_count": 105,
   "id": "0e2d6526",
   "metadata": {},
   "outputs": [
    {
     "data": {
      "text/html": [
       "<div>\n",
       "<style scoped>\n",
       "    .dataframe tbody tr th:only-of-type {\n",
       "        vertical-align: middle;\n",
       "    }\n",
       "\n",
       "    .dataframe tbody tr th {\n",
       "        vertical-align: top;\n",
       "    }\n",
       "\n",
       "    .dataframe thead th {\n",
       "        text-align: right;\n",
       "    }\n",
       "</style>\n",
       "<table border=\"1\" class=\"dataframe\">\n",
       "  <thead>\n",
       "    <tr style=\"text-align: right;\">\n",
       "      <th></th>\n",
       "      <th>Stars</th>\n",
       "      <th>Picture_quality</th>\n",
       "      <th>Operating_system</th>\n",
       "      <th>channel</th>\n",
       "      <th>Resolution_grade</th>\n",
       "      <th>4K_1</th>\n",
       "      <th>4K_2</th>\n",
       "      <th>4K_3</th>\n",
       "      <th>4K_cnt</th>\n",
       "      <th>8K_1</th>\n",
       "      <th>8K_2</th>\n",
       "      <th>8K_3</th>\n",
       "      <th>8K_cnt</th>\n",
       "    </tr>\n",
       "  </thead>\n",
       "  <tbody>\n",
       "    <tr>\n",
       "      <th>0</th>\n",
       "      <td>4.2</td>\n",
       "      <td>60 Hz Refresh Rate</td>\n",
       "      <td>20 Speaker Output</td>\n",
       "      <td>HD Ready 1366 x 768 Pixels</td>\n",
       "      <td>HD</td>\n",
       "      <td>0</td>\n",
       "      <td>0</td>\n",
       "      <td>0</td>\n",
       "      <td>0</td>\n",
       "      <td>0</td>\n",
       "      <td>0</td>\n",
       "      <td>0</td>\n",
       "      <td>0</td>\n",
       "    </tr>\n",
       "    <tr>\n",
       "      <th>1</th>\n",
       "      <td>3.8</td>\n",
       "      <td>HD Ready 1366 x 768 Pixels</td>\n",
       "      <td>Operating System: Android Based</td>\n",
       "      <td>Netflix|Disney+Hotstar|Youtube</td>\n",
       "      <td>HD</td>\n",
       "      <td>0</td>\n",
       "      <td>0</td>\n",
       "      <td>0</td>\n",
       "      <td>0</td>\n",
       "      <td>0</td>\n",
       "      <td>0</td>\n",
       "      <td>0</td>\n",
       "      <td>0</td>\n",
       "    </tr>\n",
       "  </tbody>\n",
       "</table>\n",
       "</div>"
      ],
      "text/plain": [
       "   Stars             Picture_quality                 Operating_system  \\\n",
       "0    4.2          60 Hz Refresh Rate                20 Speaker Output   \n",
       "1    3.8  HD Ready 1366 x 768 Pixels  Operating System: Android Based   \n",
       "\n",
       "                          channel Resolution_grade  4K_1  4K_2  4K_3  4K_cnt  \\\n",
       "0      HD Ready 1366 x 768 Pixels               HD     0     0     0       0   \n",
       "1  Netflix|Disney+Hotstar|Youtube               HD     0     0     0       0   \n",
       "\n",
       "   8K_1  8K_2  8K_3  8K_cnt  \n",
       "0     0     0     0       0  \n",
       "1     0     0     0       0  "
      ]
     },
     "execution_count": 105,
     "metadata": {},
     "output_type": "execute_result"
    }
   ],
   "source": [
    "df_sub2[\"4K_1\"] = df_sub2[\"Operating_system\"].str.contains(\"4K\") + 0\n",
    "df_sub2[\"4K_2\"] = df_sub2[\"channel\"         ].str.contains(\"4K\") + 0\n",
    "df_sub2[\"4K_3\"] = df_sub2[\"Picture_quality\" ].str.contains(\"4K\") + 0\n",
    "df_sub2[\"4K_cnt\"] = df_sub2[[\"4K_1\", \"4K_2\", \"4K_3\"]].sum(axis = 1)\n",
    "\n",
    "df_sub2[\"8K_1\"] = df_sub2[\"Operating_system\"].str.contains(\"8K\") + 0\n",
    "df_sub2[\"8K_2\"] = df_sub2[\"channel\"         ].str.contains(\"8K\") + 0\n",
    "df_sub2[\"8K_3\"] = df_sub2[\"Picture_quality\" ].str.contains(\"8K\") + 0\n",
    "df_sub2[\"8K_cnt\"] = df_sub2[[\"8K_1\", \"8K_2\", \"8K_3\"]].sum(axis = 1)\n",
    "\n",
    "df_sub2.head(2)"
   ]
  },
  {
   "cell_type": "code",
   "execution_count": 106,
   "id": "c3f80c8e",
   "metadata": {},
   "outputs": [
    {
     "data": {
      "text/plain": [
       "0.38"
      ]
     },
     "execution_count": 106,
     "metadata": {},
     "output_type": "execute_result"
    }
   ],
   "source": [
    "stat_4k = df_sub2.loc[df_sub2[\"4K_cnt\"] > 0, \"Stars\"].mean()\n",
    "stat_8k = df_sub2.loc[df_sub2[\"8K_cnt\"] > 0, \"Stars\"].mean()\n",
    "round(abs(stat_4k - stat_8k), 2)"
   ]
  },
  {
   "cell_type": "code",
   "execution_count": 44,
   "id": "4fb453de",
   "metadata": {
    "scrolled": false
   },
   "outputs": [
    {
     "data": {
      "text/plain": [
       "0      False\n",
       "1       True\n",
       "2       True\n",
       "3       True\n",
       "4       True\n",
       "       ...  \n",
       "661    False\n",
       "662     True\n",
       "663    False\n",
       "664    False\n",
       "665    False\n",
       "Name: Picture_quality, Length: 666, dtype: bool"
      ]
     },
     "execution_count": 44,
     "metadata": {},
     "output_type": "execute_result"
    }
   ],
   "source": [
    "df_sub2[\"Picture_quality\"].str.contains(\"HD\")"
   ]
  },
  {
   "cell_type": "code",
   "execution_count": 45,
   "id": "f3c67228",
   "metadata": {},
   "outputs": [
    {
     "name": "stderr",
     "output_type": "stream",
     "text": [
      "/home/heesandv/miniconda3/envs/datascience/lib/python3.7/site-packages/ipykernel_launcher.py:3: SettingWithCopyWarning: \n",
      "A value is trying to be set on a copy of a slice from a DataFrame.\n",
      "Try using .loc[row_indexer,col_indexer] = value instead\n",
      "\n",
      "See the caveats in the documentation: https://pandas.pydata.org/pandas-docs/stable/user_guide/indexing.html#returning-a-view-versus-a-copy\n",
      "  This is separate from the ipykernel package so we can avoid doing imports until\n",
      "/home/heesandv/miniconda3/envs/datascience/lib/python3.7/site-packages/ipykernel_launcher.py:6: SettingWithCopyWarning: \n",
      "A value is trying to be set on a copy of a slice from a DataFrame.\n",
      "Try using .loc[row_indexer,col_indexer] = value instead\n",
      "\n",
      "See the caveats in the documentation: https://pandas.pydata.org/pandas-docs/stable/user_guide/indexing.html#returning-a-view-versus-a-copy\n",
      "  \n",
      "/home/heesandv/miniconda3/envs/datascience/lib/python3.7/site-packages/ipykernel_launcher.py:9: SettingWithCopyWarning: \n",
      "A value is trying to be set on a copy of a slice from a DataFrame.\n",
      "Try using .loc[row_indexer,col_indexer] = value instead\n",
      "\n",
      "See the caveats in the documentation: https://pandas.pydata.org/pandas-docs/stable/user_guide/indexing.html#returning-a-view-versus-a-copy\n",
      "  if __name__ == \"__main__\":\n",
      "/home/heesandv/miniconda3/envs/datascience/lib/python3.7/site-packages/ipykernel_launcher.py:12: SettingWithCopyWarning: \n",
      "A value is trying to be set on a copy of a slice from a DataFrame.\n",
      "Try using .loc[row_indexer,col_indexer] = value instead\n",
      "\n",
      "See the caveats in the documentation: https://pandas.pydata.org/pandas-docs/stable/user_guide/indexing.html#returning-a-view-versus-a-copy\n",
      "  if sys.path[0] == \"\":\n",
      "/home/heesandv/miniconda3/envs/datascience/lib/python3.7/site-packages/ipykernel_launcher.py:15: SettingWithCopyWarning: \n",
      "A value is trying to be set on a copy of a slice from a DataFrame.\n",
      "Try using .loc[row_indexer,col_indexer] = value instead\n",
      "\n",
      "See the caveats in the documentation: https://pandas.pydata.org/pandas-docs/stable/user_guide/indexing.html#returning-a-view-versus-a-copy\n",
      "  from ipykernel import kernelapp as app\n",
      "/home/heesandv/miniconda3/envs/datascience/lib/python3.7/site-packages/ipykernel_launcher.py:18: SettingWithCopyWarning: \n",
      "A value is trying to be set on a copy of a slice from a DataFrame.\n",
      "Try using .loc[row_indexer,col_indexer] = value instead\n",
      "\n",
      "See the caveats in the documentation: https://pandas.pydata.org/pandas-docs/stable/user_guide/indexing.html#returning-a-view-versus-a-copy\n"
     ]
    },
    {
     "data": {
      "text/html": [
       "<div>\n",
       "<style scoped>\n",
       "    .dataframe tbody tr th:only-of-type {\n",
       "        vertical-align: middle;\n",
       "    }\n",
       "\n",
       "    .dataframe tbody tr th {\n",
       "        vertical-align: top;\n",
       "    }\n",
       "\n",
       "    .dataframe thead th {\n",
       "        text-align: right;\n",
       "    }\n",
       "</style>\n",
       "<table border=\"1\" class=\"dataframe\">\n",
       "  <thead>\n",
       "    <tr style=\"text-align: right;\">\n",
       "      <th></th>\n",
       "      <th>Stars</th>\n",
       "      <th>Picture_quality</th>\n",
       "      <th>Operating_system</th>\n",
       "      <th>channel</th>\n",
       "    </tr>\n",
       "  </thead>\n",
       "  <tbody>\n",
       "    <tr>\n",
       "      <th>0</th>\n",
       "      <td>4.2</td>\n",
       "      <td>HD Ready 1366 x 768 Pixels</td>\n",
       "      <td>20 Speaker Output</td>\n",
       "      <td>HD Ready 1366 x 768 Pixels</td>\n",
       "    </tr>\n",
       "    <tr>\n",
       "      <th>1</th>\n",
       "      <td>3.8</td>\n",
       "      <td>HD Ready 1366 x 768 Pixels</td>\n",
       "      <td>Operating System: Android Based</td>\n",
       "      <td>Netflix|Disney+Hotstar|Youtube</td>\n",
       "    </tr>\n",
       "    <tr>\n",
       "      <th>2</th>\n",
       "      <td>4.4</td>\n",
       "      <td>HD Ready 1366 x 768 Pixels</td>\n",
       "      <td>Operating System: WebOS</td>\n",
       "      <td>Netflix|Prime Video|Disney+Hotstar|Youtube</td>\n",
       "    </tr>\n",
       "    <tr>\n",
       "      <th>3</th>\n",
       "      <td>4.3</td>\n",
       "      <td>HD Ready 1366 x 768 Pixels</td>\n",
       "      <td>Operating System: Android</td>\n",
       "      <td>Netflix|Prime Video|Disney+Hotstar|Youtube</td>\n",
       "    </tr>\n",
       "    <tr>\n",
       "      <th>4</th>\n",
       "      <td>4.3</td>\n",
       "      <td>HD Ready 1366 x 768 Pixels</td>\n",
       "      <td>Operating System: Android</td>\n",
       "      <td>Netflix|Prime Video|Disney+Hotstar|Youtube</td>\n",
       "    </tr>\n",
       "  </tbody>\n",
       "</table>\n",
       "</div>"
      ],
      "text/plain": [
       "   Stars             Picture_quality                 Operating_system  \\\n",
       "0    4.2  HD Ready 1366 x 768 Pixels                20 Speaker Output   \n",
       "1    3.8  HD Ready 1366 x 768 Pixels  Operating System: Android Based   \n",
       "2    4.4  HD Ready 1366 x 768 Pixels          Operating System: WebOS   \n",
       "3    4.3  HD Ready 1366 x 768 Pixels        Operating System: Android   \n",
       "4    4.3  HD Ready 1366 x 768 Pixels        Operating System: Android   \n",
       "\n",
       "                                      channel  \n",
       "0                  HD Ready 1366 x 768 Pixels  \n",
       "1              Netflix|Disney+Hotstar|Youtube  \n",
       "2  Netflix|Prime Video|Disney+Hotstar|Youtube  \n",
       "3  Netflix|Prime Video|Disney+Hotstar|Youtube  \n",
       "4  Netflix|Prime Video|Disney+Hotstar|Youtube  "
      ]
     },
     "execution_count": 45,
     "metadata": {},
     "output_type": "execute_result"
    }
   ],
   "source": [
    "df_sub2[\"Picture_quality\"] = np.where(df_sub2[\"Operating_system\"].str.contains(\"HD\"),\n",
    "                           df_sub2[\"Operating_system\"],\n",
    "                           df_sub2[\"Picture_quality\"])\n",
    "df_sub2[\"Picture_quality\"] = np.where(df_sub2[\"Operating_system\"].str.contains(\"4K\"),\n",
    "                           df_sub2[\"Operating_system\"],\n",
    "                           df_sub2[\"Picture_quality\"])\n",
    "df_sub2[\"Picture_quality\"] = np.where(df_sub2[\"Operating_system\"].str.contains(\"8K\"),\n",
    "                           df_sub2[\"Operating_system\"],\n",
    "                           df_sub2[\"Picture_quality\"])\n",
    "df_sub2[\"Picture_quality\"] = np.where(df_sub2[\"channel\"].str.contains(\"HD\"),\n",
    "                           df_sub2[\"channel\"],\n",
    "                           df_sub2[\"Picture_quality\"])\n",
    "df_sub2[\"Picture_quality\"] = np.where(df_sub2[\"channel\"].str.contains(\"4K\"),\n",
    "                           df_sub2[\"channel\"],\n",
    "                           df_sub2[\"Picture_quality\"])\n",
    "df_sub2[\"Picture_quality\"] = np.where(df_sub2[\"channel\"].str.contains(\"8K\"),\n",
    "                           df_sub2[\"channel\"],\n",
    "                           df_sub2[\"Picture_quality\"])\n",
    "df_sub2.head(5)"
   ]
  },
  {
   "cell_type": "code",
   "execution_count": 51,
   "id": "b1eb4919",
   "metadata": {},
   "outputs": [
    {
     "data": {
      "text/plain": [
       "True    666\n",
       "Name: Picture_quality, dtype: int64"
      ]
     },
     "execution_count": 51,
     "metadata": {},
     "output_type": "execute_result"
    }
   ],
   "source": [
    "df_sub2[\"Picture_quality\"].str.contains(\"HD\").value_counts()"
   ]
  },
  {
   "cell_type": "code",
   "execution_count": 62,
   "id": "84e73c08",
   "metadata": {},
   "outputs": [
    {
     "name": "stderr",
     "output_type": "stream",
     "text": [
      "/home/heesandv/miniconda3/envs/datascience/lib/python3.7/site-packages/ipykernel_launcher.py:2: SettingWithCopyWarning: \n",
      "A value is trying to be set on a copy of a slice from a DataFrame.\n",
      "Try using .loc[row_indexer,col_indexer] = value instead\n",
      "\n",
      "See the caveats in the documentation: https://pandas.pydata.org/pandas-docs/stable/user_guide/indexing.html#returning-a-view-versus-a-copy\n",
      "  \n",
      "/home/heesandv/miniconda3/envs/datascience/lib/python3.7/site-packages/ipykernel_launcher.py:4: SettingWithCopyWarning: \n",
      "A value is trying to be set on a copy of a slice from a DataFrame.\n",
      "Try using .loc[row_indexer,col_indexer] = value instead\n",
      "\n",
      "See the caveats in the documentation: https://pandas.pydata.org/pandas-docs/stable/user_guide/indexing.html#returning-a-view-versus-a-copy\n",
      "  after removing the cwd from sys.path.\n"
     ]
    },
    {
     "data": {
      "text/plain": [
       "HD    337\n",
       "4K    328\n",
       "8K      1\n",
       "Name: Resolution_grade, dtype: int64"
      ]
     },
     "execution_count": 62,
     "metadata": {},
     "output_type": "execute_result"
    }
   ],
   "source": [
    "df_sub2[\"Resolution_grade\"] = np.where(df_sub2[\"Picture_quality\"].str.contains(\"4K\"),\n",
    "                                       \"4K\", \"HD\")\n",
    "df_sub2[\"Resolution_grade\"] = np.where(df_sub2[\"Picture_quality\"].str.contains(\"8K\"),\n",
    "                                       \"8K\", df_sub2[\"Resolution_grade\"])\n",
    "df_sub2[\"Resolution_grade\"].value_counts()"
   ]
  },
  {
   "cell_type": "code",
   "execution_count": 63,
   "id": "c75b1170",
   "metadata": {},
   "outputs": [
    {
     "data": {
      "text/html": [
       "<div>\n",
       "<style scoped>\n",
       "    .dataframe tbody tr th:only-of-type {\n",
       "        vertical-align: middle;\n",
       "    }\n",
       "\n",
       "    .dataframe tbody tr th {\n",
       "        vertical-align: top;\n",
       "    }\n",
       "\n",
       "    .dataframe thead th {\n",
       "        text-align: right;\n",
       "    }\n",
       "</style>\n",
       "<table border=\"1\" class=\"dataframe\">\n",
       "  <thead>\n",
       "    <tr style=\"text-align: right;\">\n",
       "      <th></th>\n",
       "      <th>Resolution_grade</th>\n",
       "      <th>Stars</th>\n",
       "    </tr>\n",
       "  </thead>\n",
       "  <tbody>\n",
       "    <tr>\n",
       "      <th>0</th>\n",
       "      <td>4K</td>\n",
       "      <td>3.22</td>\n",
       "    </tr>\n",
       "    <tr>\n",
       "      <th>1</th>\n",
       "      <td>8K</td>\n",
       "      <td>3.60</td>\n",
       "    </tr>\n",
       "    <tr>\n",
       "      <th>2</th>\n",
       "      <td>HD</td>\n",
       "      <td>3.09</td>\n",
       "    </tr>\n",
       "  </tbody>\n",
       "</table>\n",
       "</div>"
      ],
      "text/plain": [
       "  Resolution_grade  Stars\n",
       "0               4K   3.22\n",
       "1               8K   3.60\n",
       "2               HD   3.09"
      ]
     },
     "execution_count": 63,
     "metadata": {},
     "output_type": "execute_result"
    }
   ],
   "source": [
    "df_sub2.groupby(\"Resolution_grade\")[\"Stars\"].mean().reset_index().round(2)"
   ]
  },
  {
   "cell_type": "code",
   "execution_count": 66,
   "id": "8b3dcae4",
   "metadata": {},
   "outputs": [
    {
     "data": {
      "text/plain": [
       "0.38"
      ]
     },
     "execution_count": 66,
     "metadata": {},
     "output_type": "execute_result"
    }
   ],
   "source": [
    "round(abs(3.22 - 3.6), 2)"
   ]
  },
  {
   "cell_type": "markdown",
   "id": "182fc631",
   "metadata": {},
   "source": [
    "## Q3."
   ]
  },
  {
   "cell_type": "code",
   "execution_count": 116,
   "id": "6e2416ef",
   "metadata": {
    "scrolled": true
   },
   "outputs": [
    {
     "data": {
      "text/html": [
       "<div>\n",
       "<style scoped>\n",
       "    .dataframe tbody tr th:only-of-type {\n",
       "        vertical-align: middle;\n",
       "    }\n",
       "\n",
       "    .dataframe tbody tr th {\n",
       "        vertical-align: top;\n",
       "    }\n",
       "\n",
       "    .dataframe thead th {\n",
       "        text-align: right;\n",
       "    }\n",
       "</style>\n",
       "<table border=\"1\" class=\"dataframe\">\n",
       "  <thead>\n",
       "    <tr style=\"text-align: right;\">\n",
       "      <th></th>\n",
       "      <th>Product_Name</th>\n",
       "      <th>Stars</th>\n",
       "      <th>Ratings</th>\n",
       "      <th>Reviews</th>\n",
       "      <th>current_price</th>\n",
       "      <th>MRP</th>\n",
       "      <th>channel</th>\n",
       "      <th>Operating_system</th>\n",
       "      <th>Picture_quality</th>\n",
       "      <th>Speaker</th>\n",
       "      <th>Frequency</th>\n",
       "    </tr>\n",
       "  </thead>\n",
       "  <tbody>\n",
       "    <tr>\n",
       "      <th>0</th>\n",
       "      <td>Croma</td>\n",
       "      <td>4.2</td>\n",
       "      <td>1773</td>\n",
       "      <td>217</td>\n",
       "      <td>7990</td>\n",
       "      <td>20000</td>\n",
       "      <td>HD Ready 1366 x 768 Pixels</td>\n",
       "      <td>20 Speaker Output</td>\n",
       "      <td>60 Hz Refresh Rate</td>\n",
       "      <td>2 x HDMI | 2 x USB</td>\n",
       "      <td>1 Year Warranty</td>\n",
       "    </tr>\n",
       "    <tr>\n",
       "      <th>1</th>\n",
       "      <td>Adsun</td>\n",
       "      <td>3.8</td>\n",
       "      <td>6742</td>\n",
       "      <td>930</td>\n",
       "      <td>8699</td>\n",
       "      <td>21999</td>\n",
       "      <td>Netflix|Disney+Hotstar|Youtube</td>\n",
       "      <td>Operating System: Android Based</td>\n",
       "      <td>HD Ready 1366 x 768 Pixels</td>\n",
       "      <td>20 W Speaker Output</td>\n",
       "      <td>60 Hz Refresh Rate</td>\n",
       "    </tr>\n",
       "  </tbody>\n",
       "</table>\n",
       "</div>"
      ],
      "text/plain": [
       "  Product_Name  Stars  Ratings  Reviews  current_price    MRP  \\\n",
       "0        Croma    4.2     1773      217           7990  20000   \n",
       "1        Adsun    3.8     6742      930           8699  21999   \n",
       "\n",
       "                          channel                 Operating_system  \\\n",
       "0      HD Ready 1366 x 768 Pixels                20 Speaker Output   \n",
       "1  Netflix|Disney+Hotstar|Youtube  Operating System: Android Based   \n",
       "\n",
       "              Picture_quality              Speaker           Frequency  \n",
       "0          60 Hz Refresh Rate   2 x HDMI | 2 x USB     1 Year Warranty  \n",
       "1  HD Ready 1366 x 768 Pixels  20 W Speaker Output  60 Hz Refresh Rate  "
      ]
     },
     "execution_count": 116,
     "metadata": {},
     "output_type": "execute_result"
    }
   ],
   "source": [
    "df_q3 = df.copy()\n",
    "df_q3.head(2)"
   ]
  },
  {
   "cell_type": "code",
   "execution_count": 117,
   "id": "a00c9715",
   "metadata": {},
   "outputs": [
    {
     "data": {
      "text/plain": [
       "(666, 548)"
      ]
     },
     "execution_count": 117,
     "metadata": {},
     "output_type": "execute_result"
    }
   ],
   "source": [
    "df_q3 = df_q3.loc[~df_q3[\"channel\"].str.contains(\"Pixel|Oper\"), ] # 판다스에서 ~ 문자를 앞에 쓰면 boolean 반전시켜줌\n",
    "len(df), len(df_q3)"
   ]
  },
  {
   "cell_type": "code",
   "execution_count": 118,
   "id": "fc1bbd05",
   "metadata": {},
   "outputs": [],
   "source": [
    "df_q3 = df_q3.reset_index(drop = True)"
   ]
  },
  {
   "cell_type": "code",
   "execution_count": 119,
   "id": "6ea80b6f",
   "metadata": {},
   "outputs": [],
   "source": [
    "# df_q3[\"Review_ratio\"] = df_q3[\"Reviews\"] / df_q3[\"Ratings\"]\n",
    "# df_q3[\"Discount\"] = df_q3[\"current_price\"] / df_q3[\"MRP\"]\n",
    "# df_q3[\"Netflix\"] = df_q3[\"channel\"].str.contains(\"Netflix\") + 0\n",
    "# df_q3[\"Prime_Video\"] = df_q3[\"channel\"].str.contains(\"Prime_Video\") + 0\n",
    "# df_q3[\"is_high_q\"] = df_q3[\"Picture_quality\"].str.contains(\"4K|8K\") + 0\n",
    "df_q3[\"x1\"] = df_q3[\"Reviews\"] / df_q3[\"Ratings\"]\n",
    "df_q3[\"x2\"] = df_q3[\"MRP\"]\n",
    "df_q3[\"x3\"] = df_q3[\"current_price\"] / df_q3[\"MRP\"]\n",
    "df_q3[\"x4\"] = df_q3[\"channel\"].str.contains(\"Netflix\") + 0\n",
    "df_q3[\"x5\"] = df_q3[\"channel\"].str.contains(\"Prime_Video\") + 0\n",
    "df_q3[\"x6\"] = df_q3[\"Picture_quality\"].str.contains(\"4K|8K\") + 0"
   ]
  },
  {
   "cell_type": "code",
   "execution_count": 120,
   "id": "c0fa25b0",
   "metadata": {},
   "outputs": [
    {
     "data": {
      "text/html": [
       "<div>\n",
       "<style scoped>\n",
       "    .dataframe tbody tr th:only-of-type {\n",
       "        vertical-align: middle;\n",
       "    }\n",
       "\n",
       "    .dataframe tbody tr th {\n",
       "        vertical-align: top;\n",
       "    }\n",
       "\n",
       "    .dataframe thead th {\n",
       "        text-align: right;\n",
       "    }\n",
       "</style>\n",
       "<table border=\"1\" class=\"dataframe\">\n",
       "  <thead>\n",
       "    <tr style=\"text-align: right;\">\n",
       "      <th></th>\n",
       "      <th>Product_Name</th>\n",
       "      <th>Stars</th>\n",
       "      <th>Ratings</th>\n",
       "      <th>Reviews</th>\n",
       "      <th>current_price</th>\n",
       "      <th>MRP</th>\n",
       "      <th>channel</th>\n",
       "      <th>Operating_system</th>\n",
       "      <th>Picture_quality</th>\n",
       "      <th>Speaker</th>\n",
       "      <th>Frequency</th>\n",
       "      <th>x1</th>\n",
       "      <th>x2</th>\n",
       "      <th>x3</th>\n",
       "      <th>x4</th>\n",
       "      <th>x5</th>\n",
       "      <th>x6</th>\n",
       "    </tr>\n",
       "  </thead>\n",
       "  <tbody>\n",
       "    <tr>\n",
       "      <th>0</th>\n",
       "      <td>Adsun</td>\n",
       "      <td>3.8</td>\n",
       "      <td>6742</td>\n",
       "      <td>930</td>\n",
       "      <td>8699</td>\n",
       "      <td>21999</td>\n",
       "      <td>Netflix|Disney+Hotstar|Youtube</td>\n",
       "      <td>Operating System: Android Based</td>\n",
       "      <td>HD Ready 1366 x 768 Pixels</td>\n",
       "      <td>20 W Speaker Output</td>\n",
       "      <td>60 Hz Refresh Rate</td>\n",
       "      <td>0.137941</td>\n",
       "      <td>21999</td>\n",
       "      <td>0.395427</td>\n",
       "      <td>1</td>\n",
       "      <td>0</td>\n",
       "      <td>0</td>\n",
       "    </tr>\n",
       "    <tr>\n",
       "      <th>1</th>\n",
       "      <td>LG</td>\n",
       "      <td>4.4</td>\n",
       "      <td>38870</td>\n",
       "      <td>3443</td>\n",
       "      <td>16499</td>\n",
       "      <td>21990</td>\n",
       "      <td>Netflix|Prime Video|Disney+Hotstar|Youtube</td>\n",
       "      <td>Operating System: WebOS</td>\n",
       "      <td>HD Ready 1366 x 768 Pixels</td>\n",
       "      <td>10 W Speaker Output</td>\n",
       "      <td>50 Hz Refresh Rate</td>\n",
       "      <td>0.088577</td>\n",
       "      <td>21990</td>\n",
       "      <td>0.750296</td>\n",
       "      <td>1</td>\n",
       "      <td>0</td>\n",
       "      <td>0</td>\n",
       "    </tr>\n",
       "  </tbody>\n",
       "</table>\n",
       "</div>"
      ],
      "text/plain": [
       "  Product_Name  Stars  Ratings  Reviews  current_price    MRP  \\\n",
       "0        Adsun    3.8     6742      930           8699  21999   \n",
       "1           LG    4.4    38870     3443          16499  21990   \n",
       "\n",
       "                                      channel  \\\n",
       "0              Netflix|Disney+Hotstar|Youtube   \n",
       "1  Netflix|Prime Video|Disney+Hotstar|Youtube   \n",
       "\n",
       "                  Operating_system             Picture_quality  \\\n",
       "0  Operating System: Android Based  HD Ready 1366 x 768 Pixels   \n",
       "1          Operating System: WebOS  HD Ready 1366 x 768 Pixels   \n",
       "\n",
       "               Speaker           Frequency        x1     x2        x3  x4  x5  \\\n",
       "0  20 W Speaker Output  60 Hz Refresh Rate  0.137941  21999  0.395427   1   0   \n",
       "1  10 W Speaker Output  50 Hz Refresh Rate  0.088577  21990  0.750296   1   0   \n",
       "\n",
       "   x6  \n",
       "0   0  \n",
       "1   0  "
      ]
     },
     "execution_count": 120,
     "metadata": {},
     "output_type": "execute_result"
    }
   ],
   "source": [
    "df_q3.head(2)"
   ]
  },
  {
   "cell_type": "code",
   "execution_count": 122,
   "id": "6f8b288d",
   "metadata": {},
   "outputs": [
    {
     "name": "stdout",
     "output_type": "stream",
     "text": [
      "197\n"
     ]
    },
    {
     "data": {
      "text/plain": [
       "Stars    0\n",
       "x1       0\n",
       "x2       0\n",
       "x3       0\n",
       "x4       0\n",
       "x5       0\n",
       "x6       0\n",
       "dtype: int64"
      ]
     },
     "execution_count": 122,
     "metadata": {},
     "output_type": "execute_result"
    }
   ],
   "source": [
    "df_model = df_q3[[\"Stars\", \"x1\", \"x2\", \"x3\", \"x4\", \"x5\", \"x6\"]]\n",
    "df_model = df_model.dropna().reset_index(drop = True)\n",
    "print(len(df_model))\n",
    "df_model.isna().sum()"
   ]
  },
  {
   "cell_type": "code",
   "execution_count": 123,
   "id": "cb1b6f92",
   "metadata": {},
   "outputs": [
    {
     "data": {
      "text/plain": [
       "RandomForestRegressor(random_state=123)"
      ]
     },
     "execution_count": 123,
     "metadata": {},
     "output_type": "execute_result"
    }
   ],
   "source": [
    "model_rf = RandomForestRegressor(random_state=123)\n",
    "model_rf.fit(X = df_model.drop(\"Stars\", axis = 1),\n",
    "             y = df_model[\"Stars\"])"
   ]
  },
  {
   "cell_type": "code",
   "execution_count": 127,
   "id": "c76d5f51",
   "metadata": {},
   "outputs": [
    {
     "data": {
      "text/plain": [
       "array([0.31717126, 0.17487942, 0.46113958, 0.0273387 , 0.        ,\n",
       "       0.01947103])"
      ]
     },
     "execution_count": 127,
     "metadata": {},
     "output_type": "execute_result"
    }
   ],
   "source": [
    "model_rf.feature_importances_"
   ]
  },
  {
   "cell_type": "code",
   "execution_count": 125,
   "id": "e891dd2c",
   "metadata": {},
   "outputs": [
    {
     "data": {
      "text/plain": [
       "'x3'"
      ]
     },
     "execution_count": 125,
     "metadata": {},
     "output_type": "execute_result"
    }
   ],
   "source": [
    "df_model.columns[1:][model_rf.feature_importances_.argmax()] # numpy 객체는 .argmax(), pandas 객체는 .idxmax()"
   ]
  },
  {
   "cell_type": "code",
   "execution_count": 124,
   "id": "b4379e09",
   "metadata": {},
   "outputs": [
    {
     "data": {
      "text/plain": [
       "0.461"
      ]
     },
     "execution_count": 124,
     "metadata": {},
     "output_type": "execute_result"
    }
   ],
   "source": [
    "round(model_rf.feature_importances_.max(), 3)"
   ]
  },
  {
   "cell_type": "code",
   "execution_count": null,
   "id": "4d01ddc3",
   "metadata": {},
   "outputs": [],
   "source": []
  }
 ],
 "metadata": {
  "kernelspec": {
   "display_name": "Python 3 (ipykernel)",
   "language": "python",
   "name": "python3"
  },
  "language_info": {
   "codemirror_mode": {
    "name": "ipython",
    "version": 3
   },
   "file_extension": ".py",
   "mimetype": "text/x-python",
   "name": "python",
   "nbconvert_exporter": "python",
   "pygments_lexer": "ipython3",
   "version": "3.7.4"
  }
 },
 "nbformat": 4,
 "nbformat_minor": 5
}
