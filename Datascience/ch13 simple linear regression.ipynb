{
 "cells": [
  {
   "cell_type": "code",
   "execution_count": 1,
   "id": "aa27f646",
   "metadata": {},
   "outputs": [],
   "source": [
    "import pandas as pd\n",
    "from statsmodels.formula.api import ols"
   ]
  },
  {
   "cell_type": "code",
   "execution_count": 3,
   "id": "de606f92",
   "metadata": {},
   "outputs": [
    {
     "data": {
      "text/html": [
       "<div>\n",
       "<style scoped>\n",
       "    .dataframe tbody tr th:only-of-type {\n",
       "        vertical-align: middle;\n",
       "    }\n",
       "\n",
       "    .dataframe tbody tr th {\n",
       "        vertical-align: top;\n",
       "    }\n",
       "\n",
       "    .dataframe thead th {\n",
       "        text-align: right;\n",
       "    }\n",
       "</style>\n",
       "<table border=\"1\" class=\"dataframe\">\n",
       "  <thead>\n",
       "    <tr style=\"text-align: right;\">\n",
       "      <th></th>\n",
       "      <th>Sepal.Length</th>\n",
       "      <th>Sepal.Width</th>\n",
       "      <th>Petal.Length</th>\n",
       "      <th>Petal.Width</th>\n",
       "      <th>Species</th>\n",
       "    </tr>\n",
       "  </thead>\n",
       "  <tbody>\n",
       "    <tr>\n",
       "      <th>0</th>\n",
       "      <td>5.1</td>\n",
       "      <td>3.5</td>\n",
       "      <td>1.4</td>\n",
       "      <td>0.2</td>\n",
       "      <td>setosa</td>\n",
       "    </tr>\n",
       "    <tr>\n",
       "      <th>1</th>\n",
       "      <td>4.9</td>\n",
       "      <td>3.0</td>\n",
       "      <td>1.4</td>\n",
       "      <td>0.2</td>\n",
       "      <td>setosa</td>\n",
       "    </tr>\n",
       "  </tbody>\n",
       "</table>\n",
       "</div>"
      ],
      "text/plain": [
       "   Sepal.Length  Sepal.Width  Petal.Length  Petal.Width Species\n",
       "0           5.1          3.5           1.4          0.2  setosa\n",
       "1           4.9          3.0           1.4          0.2  setosa"
      ]
     },
     "execution_count": 3,
     "metadata": {},
     "output_type": "execute_result"
    }
   ],
   "source": [
    "df = pd.read_csv(\"iris.csv\")\n",
    "df.head(2)"
   ]
  },
  {
   "cell_type": "code",
   "execution_count": 5,
   "id": "7ef93f1e",
   "metadata": {},
   "outputs": [],
   "source": [
    "# model = ols(formula = \"Sepal.Length ~ Sepal.Width\", data = df).fit()"
   ]
  },
  {
   "cell_type": "code",
   "execution_count": 6,
   "id": "8bfbf71b",
   "metadata": {},
   "outputs": [
    {
     "data": {
      "text/html": [
       "<div>\n",
       "<style scoped>\n",
       "    .dataframe tbody tr th:only-of-type {\n",
       "        vertical-align: middle;\n",
       "    }\n",
       "\n",
       "    .dataframe tbody tr th {\n",
       "        vertical-align: top;\n",
       "    }\n",
       "\n",
       "    .dataframe thead th {\n",
       "        text-align: right;\n",
       "    }\n",
       "</style>\n",
       "<table border=\"1\" class=\"dataframe\">\n",
       "  <thead>\n",
       "    <tr style=\"text-align: right;\">\n",
       "      <th></th>\n",
       "      <th>SL</th>\n",
       "      <th>SW</th>\n",
       "      <th>PL</th>\n",
       "      <th>PW</th>\n",
       "      <th>species</th>\n",
       "    </tr>\n",
       "  </thead>\n",
       "  <tbody>\n",
       "    <tr>\n",
       "      <th>0</th>\n",
       "      <td>5.1</td>\n",
       "      <td>3.5</td>\n",
       "      <td>1.4</td>\n",
       "      <td>0.2</td>\n",
       "      <td>setosa</td>\n",
       "    </tr>\n",
       "    <tr>\n",
       "      <th>1</th>\n",
       "      <td>4.9</td>\n",
       "      <td>3.0</td>\n",
       "      <td>1.4</td>\n",
       "      <td>0.2</td>\n",
       "      <td>setosa</td>\n",
       "    </tr>\n",
       "    <tr>\n",
       "      <th>2</th>\n",
       "      <td>4.7</td>\n",
       "      <td>3.2</td>\n",
       "      <td>1.3</td>\n",
       "      <td>0.2</td>\n",
       "      <td>setosa</td>\n",
       "    </tr>\n",
       "    <tr>\n",
       "      <th>3</th>\n",
       "      <td>4.6</td>\n",
       "      <td>3.1</td>\n",
       "      <td>1.5</td>\n",
       "      <td>0.2</td>\n",
       "      <td>setosa</td>\n",
       "    </tr>\n",
       "    <tr>\n",
       "      <th>4</th>\n",
       "      <td>5.0</td>\n",
       "      <td>3.6</td>\n",
       "      <td>1.4</td>\n",
       "      <td>0.2</td>\n",
       "      <td>setosa</td>\n",
       "    </tr>\n",
       "  </tbody>\n",
       "</table>\n",
       "</div>"
      ],
      "text/plain": [
       "    SL   SW   PL   PW species\n",
       "0  5.1  3.5  1.4  0.2  setosa\n",
       "1  4.9  3.0  1.4  0.2  setosa\n",
       "2  4.7  3.2  1.3  0.2  setosa\n",
       "3  4.6  3.1  1.5  0.2  setosa\n",
       "4  5.0  3.6  1.4  0.2  setosa"
      ]
     },
     "execution_count": 6,
     "metadata": {},
     "output_type": "execute_result"
    }
   ],
   "source": [
    "df.columns = [\"SL\", \"SW\", \"PL\", \"PW\", \"species\"]\n",
    "df.head()"
   ]
  },
  {
   "cell_type": "code",
   "execution_count": 9,
   "id": "10bc5133",
   "metadata": {},
   "outputs": [
    {
     "data": {
      "text/html": [
       "<table class=\"simpletable\">\n",
       "<caption>OLS Regression Results</caption>\n",
       "<tr>\n",
       "  <th>Dep. Variable:</th>           <td>SL</td>        <th>  R-squared:         </th> <td>   0.014</td>\n",
       "</tr>\n",
       "<tr>\n",
       "  <th>Model:</th>                   <td>OLS</td>       <th>  Adj. R-squared:    </th> <td>   0.007</td>\n",
       "</tr>\n",
       "<tr>\n",
       "  <th>Method:</th>             <td>Least Squares</td>  <th>  F-statistic:       </th> <td>   2.074</td>\n",
       "</tr>\n",
       "<tr>\n",
       "  <th>Date:</th>             <td>Thu, 02 Feb 2023</td> <th>  Prob (F-statistic):</th>  <td> 0.152</td> \n",
       "</tr>\n",
       "<tr>\n",
       "  <th>Time:</th>                 <td>12:39:26</td>     <th>  Log-Likelihood:    </th> <td> -183.00</td>\n",
       "</tr>\n",
       "<tr>\n",
       "  <th>No. Observations:</th>      <td>   150</td>      <th>  AIC:               </th> <td>   370.0</td>\n",
       "</tr>\n",
       "<tr>\n",
       "  <th>Df Residuals:</th>          <td>   148</td>      <th>  BIC:               </th> <td>   376.0</td>\n",
       "</tr>\n",
       "<tr>\n",
       "  <th>Df Model:</th>              <td>     1</td>      <th>                     </th>     <td> </td>   \n",
       "</tr>\n",
       "<tr>\n",
       "  <th>Covariance Type:</th>      <td>nonrobust</td>    <th>                     </th>     <td> </td>   \n",
       "</tr>\n",
       "</table>\n",
       "<table class=\"simpletable\">\n",
       "<tr>\n",
       "      <td></td>         <th>coef</th>     <th>std err</th>      <th>t</th>      <th>P>|t|</th>  <th>[0.025</th>    <th>0.975]</th>  \n",
       "</tr>\n",
       "<tr>\n",
       "  <th>Intercept</th> <td>    6.5262</td> <td>    0.479</td> <td>   13.628</td> <td> 0.000</td> <td>    5.580</td> <td>    7.473</td>\n",
       "</tr>\n",
       "<tr>\n",
       "  <th>SW</th>        <td>   -0.2234</td> <td>    0.155</td> <td>   -1.440</td> <td> 0.152</td> <td>   -0.530</td> <td>    0.083</td>\n",
       "</tr>\n",
       "</table>\n",
       "<table class=\"simpletable\">\n",
       "<tr>\n",
       "  <th>Omnibus:</th>       <td> 4.389</td> <th>  Durbin-Watson:     </th> <td>   0.952</td>\n",
       "</tr>\n",
       "<tr>\n",
       "  <th>Prob(Omnibus):</th> <td> 0.111</td> <th>  Jarque-Bera (JB):  </th> <td>   4.237</td>\n",
       "</tr>\n",
       "<tr>\n",
       "  <th>Skew:</th>          <td> 0.360</td> <th>  Prob(JB):          </th> <td>   0.120</td>\n",
       "</tr>\n",
       "<tr>\n",
       "  <th>Kurtosis:</th>      <td> 2.600</td> <th>  Cond. No.          </th> <td>    24.2</td>\n",
       "</tr>\n",
       "</table><br/><br/>Notes:<br/>[1] Standard Errors assume that the covariance matrix of the errors is correctly specified."
      ],
      "text/plain": [
       "<class 'statsmodels.iolib.summary.Summary'>\n",
       "\"\"\"\n",
       "                            OLS Regression Results                            \n",
       "==============================================================================\n",
       "Dep. Variable:                     SL   R-squared:                       0.014\n",
       "Model:                            OLS   Adj. R-squared:                  0.007\n",
       "Method:                 Least Squares   F-statistic:                     2.074\n",
       "Date:                Thu, 02 Feb 2023   Prob (F-statistic):              0.152\n",
       "Time:                        12:39:26   Log-Likelihood:                -183.00\n",
       "No. Observations:                 150   AIC:                             370.0\n",
       "Df Residuals:                     148   BIC:                             376.0\n",
       "Df Model:                           1                                         \n",
       "Covariance Type:            nonrobust                                         \n",
       "==============================================================================\n",
       "                 coef    std err          t      P>|t|      [0.025      0.975]\n",
       "------------------------------------------------------------------------------\n",
       "Intercept      6.5262      0.479     13.628      0.000       5.580       7.473\n",
       "SW            -0.2234      0.155     -1.440      0.152      -0.530       0.083\n",
       "==============================================================================\n",
       "Omnibus:                        4.389   Durbin-Watson:                   0.952\n",
       "Prob(Omnibus):                  0.111   Jarque-Bera (JB):                4.237\n",
       "Skew:                           0.360   Prob(JB):                        0.120\n",
       "Kurtosis:                       2.600   Cond. No.                         24.2\n",
       "==============================================================================\n",
       "\n",
       "Notes:\n",
       "[1] Standard Errors assume that the covariance matrix of the errors is correctly specified.\n",
       "\"\"\""
      ]
     },
     "execution_count": 9,
     "metadata": {},
     "output_type": "execute_result"
    }
   ],
   "source": [
    "model = ols(formula = \"SL ~ SW\", data = df).fit()\n",
    "model.summary()"
   ]
  },
  {
   "cell_type": "code",
   "execution_count": 10,
   "id": "2f740d6e",
   "metadata": {},
   "outputs": [
    {
     "data": {
      "text/html": [
       "<table class=\"simpletable\">\n",
       "<caption>OLS Regression Results</caption>\n",
       "<tr>\n",
       "  <th>Dep. Variable:</th>           <td>PL</td>        <th>  R-squared:         </th> <td>   0.927</td>\n",
       "</tr>\n",
       "<tr>\n",
       "  <th>Model:</th>                   <td>OLS</td>       <th>  Adj. R-squared:    </th> <td>   0.927</td>\n",
       "</tr>\n",
       "<tr>\n",
       "  <th>Method:</th>             <td>Least Squares</td>  <th>  F-statistic:       </th> <td>   1882.</td>\n",
       "</tr>\n",
       "<tr>\n",
       "  <th>Date:</th>             <td>Thu, 02 Feb 2023</td> <th>  Prob (F-statistic):</th> <td>4.68e-86</td>\n",
       "</tr>\n",
       "<tr>\n",
       "  <th>Time:</th>                 <td>12:40:11</td>     <th>  Log-Likelihood:    </th> <td> -101.18</td>\n",
       "</tr>\n",
       "<tr>\n",
       "  <th>No. Observations:</th>      <td>   150</td>      <th>  AIC:               </th> <td>   206.4</td>\n",
       "</tr>\n",
       "<tr>\n",
       "  <th>Df Residuals:</th>          <td>   148</td>      <th>  BIC:               </th> <td>   212.4</td>\n",
       "</tr>\n",
       "<tr>\n",
       "  <th>Df Model:</th>              <td>     1</td>      <th>                     </th>     <td> </td>   \n",
       "</tr>\n",
       "<tr>\n",
       "  <th>Covariance Type:</th>      <td>nonrobust</td>    <th>                     </th>     <td> </td>   \n",
       "</tr>\n",
       "</table>\n",
       "<table class=\"simpletable\">\n",
       "<tr>\n",
       "      <td></td>         <th>coef</th>     <th>std err</th>      <th>t</th>      <th>P>|t|</th>  <th>[0.025</th>    <th>0.975]</th>  \n",
       "</tr>\n",
       "<tr>\n",
       "  <th>Intercept</th> <td>    1.0836</td> <td>    0.073</td> <td>   14.850</td> <td> 0.000</td> <td>    0.939</td> <td>    1.228</td>\n",
       "</tr>\n",
       "<tr>\n",
       "  <th>PW</th>        <td>    2.2299</td> <td>    0.051</td> <td>   43.387</td> <td> 0.000</td> <td>    2.128</td> <td>    2.332</td>\n",
       "</tr>\n",
       "</table>\n",
       "<table class=\"simpletable\">\n",
       "<tr>\n",
       "  <th>Omnibus:</th>       <td> 2.438</td> <th>  Durbin-Watson:     </th> <td>   1.430</td>\n",
       "</tr>\n",
       "<tr>\n",
       "  <th>Prob(Omnibus):</th> <td> 0.295</td> <th>  Jarque-Bera (JB):  </th> <td>   1.966</td>\n",
       "</tr>\n",
       "<tr>\n",
       "  <th>Skew:</th>          <td> 0.211</td> <th>  Prob(JB):          </th> <td>   0.374</td>\n",
       "</tr>\n",
       "<tr>\n",
       "  <th>Kurtosis:</th>      <td> 3.369</td> <th>  Cond. No.          </th> <td>    3.70</td>\n",
       "</tr>\n",
       "</table><br/><br/>Notes:<br/>[1] Standard Errors assume that the covariance matrix of the errors is correctly specified."
      ],
      "text/plain": [
       "<class 'statsmodels.iolib.summary.Summary'>\n",
       "\"\"\"\n",
       "                            OLS Regression Results                            \n",
       "==============================================================================\n",
       "Dep. Variable:                     PL   R-squared:                       0.927\n",
       "Model:                            OLS   Adj. R-squared:                  0.927\n",
       "Method:                 Least Squares   F-statistic:                     1882.\n",
       "Date:                Thu, 02 Feb 2023   Prob (F-statistic):           4.68e-86\n",
       "Time:                        12:40:11   Log-Likelihood:                -101.18\n",
       "No. Observations:                 150   AIC:                             206.4\n",
       "Df Residuals:                     148   BIC:                             212.4\n",
       "Df Model:                           1                                         \n",
       "Covariance Type:            nonrobust                                         \n",
       "==============================================================================\n",
       "                 coef    std err          t      P>|t|      [0.025      0.975]\n",
       "------------------------------------------------------------------------------\n",
       "Intercept      1.0836      0.073     14.850      0.000       0.939       1.228\n",
       "PW             2.2299      0.051     43.387      0.000       2.128       2.332\n",
       "==============================================================================\n",
       "Omnibus:                        2.438   Durbin-Watson:                   1.430\n",
       "Prob(Omnibus):                  0.295   Jarque-Bera (JB):                1.966\n",
       "Skew:                           0.211   Prob(JB):                        0.374\n",
       "Kurtosis:                       3.369   Cond. No.                         3.70\n",
       "==============================================================================\n",
       "\n",
       "Notes:\n",
       "[1] Standard Errors assume that the covariance matrix of the errors is correctly specified.\n",
       "\"\"\""
      ]
     },
     "execution_count": 10,
     "metadata": {},
     "output_type": "execute_result"
    }
   ],
   "source": [
    "model = ols(formula = \"PL ~ PW\", data = df).fit()\n",
    "model.summary()"
   ]
  },
  {
   "cell_type": "markdown",
   "id": "bfef7740",
   "metadata": {},
   "source": [
    "Prob(F-statistic) : F검정통계량에 대한 p-value, 작을수록 선형성 높다 -> 귀무가설 기각, 대립가설 채택  \n",
    "R-squared : 설명력, 결정계수  \n",
    "Intercept : 절편  \n",
    "PW : 독립변수에 대한 계수, 기울기  \n",
    "t : 검정통계량  \n",
    "P>|t| : 현재 검정통계량 t의 절대값 보다 큰 검정통계량이 나올 확률, p-value  \n",
    "결론 : 선형관계 확실하고, 식은 y = 2.2299x + 1.0836"
   ]
  },
  {
   "cell_type": "code",
   "execution_count": 12,
   "id": "e804af6f",
   "metadata": {},
   "outputs": [
    {
     "data": {
      "text/plain": [
       "0    1.529546\n",
       "1    1.529546\n",
       "2    1.529546\n",
       "3    1.529546\n",
       "4    1.529546\n",
       "5    1.975534\n",
       "dtype: float64"
      ]
     },
     "execution_count": 12,
     "metadata": {},
     "output_type": "execute_result"
    }
   ],
   "source": [
    "model.predict(df.iloc[:6, ]) # 학습한 변수만 알아서 뽑아서 predict해줌, 편리."
   ]
  },
  {
   "cell_type": "code",
   "execution_count": 13,
   "id": "220eae76",
   "metadata": {},
   "outputs": [
    {
     "data": {
      "text/html": [
       "<div>\n",
       "<style scoped>\n",
       "    .dataframe tbody tr th:only-of-type {\n",
       "        vertical-align: middle;\n",
       "    }\n",
       "\n",
       "    .dataframe tbody tr th {\n",
       "        vertical-align: top;\n",
       "    }\n",
       "\n",
       "    .dataframe thead th {\n",
       "        text-align: right;\n",
       "    }\n",
       "</style>\n",
       "<table border=\"1\" class=\"dataframe\">\n",
       "  <thead>\n",
       "    <tr style=\"text-align: right;\">\n",
       "      <th></th>\n",
       "      <th>SL</th>\n",
       "      <th>SW</th>\n",
       "      <th>PL</th>\n",
       "      <th>PW</th>\n",
       "      <th>species</th>\n",
       "      <th>pred</th>\n",
       "    </tr>\n",
       "  </thead>\n",
       "  <tbody>\n",
       "    <tr>\n",
       "      <th>0</th>\n",
       "      <td>5.1</td>\n",
       "      <td>3.5</td>\n",
       "      <td>1.4</td>\n",
       "      <td>0.2</td>\n",
       "      <td>setosa</td>\n",
       "      <td>1.529546</td>\n",
       "    </tr>\n",
       "    <tr>\n",
       "      <th>1</th>\n",
       "      <td>4.9</td>\n",
       "      <td>3.0</td>\n",
       "      <td>1.4</td>\n",
       "      <td>0.2</td>\n",
       "      <td>setosa</td>\n",
       "      <td>1.529546</td>\n",
       "    </tr>\n",
       "    <tr>\n",
       "      <th>2</th>\n",
       "      <td>4.7</td>\n",
       "      <td>3.2</td>\n",
       "      <td>1.3</td>\n",
       "      <td>0.2</td>\n",
       "      <td>setosa</td>\n",
       "      <td>1.529546</td>\n",
       "    </tr>\n",
       "    <tr>\n",
       "      <th>3</th>\n",
       "      <td>4.6</td>\n",
       "      <td>3.1</td>\n",
       "      <td>1.5</td>\n",
       "      <td>0.2</td>\n",
       "      <td>setosa</td>\n",
       "      <td>1.529546</td>\n",
       "    </tr>\n",
       "    <tr>\n",
       "      <th>4</th>\n",
       "      <td>5.0</td>\n",
       "      <td>3.6</td>\n",
       "      <td>1.4</td>\n",
       "      <td>0.2</td>\n",
       "      <td>setosa</td>\n",
       "      <td>1.529546</td>\n",
       "    </tr>\n",
       "  </tbody>\n",
       "</table>\n",
       "</div>"
      ],
      "text/plain": [
       "    SL   SW   PL   PW species      pred\n",
       "0  5.1  3.5  1.4  0.2  setosa  1.529546\n",
       "1  4.9  3.0  1.4  0.2  setosa  1.529546\n",
       "2  4.7  3.2  1.3  0.2  setosa  1.529546\n",
       "3  4.6  3.1  1.5  0.2  setosa  1.529546\n",
       "4  5.0  3.6  1.4  0.2  setosa  1.529546"
      ]
     },
     "execution_count": 13,
     "metadata": {},
     "output_type": "execute_result"
    }
   ],
   "source": [
    "df[\"pred\"] = model.predict(df)\n",
    "df.head()"
   ]
  },
  {
   "cell_type": "code",
   "execution_count": 2,
   "id": "a9a34c02",
   "metadata": {},
   "outputs": [],
   "source": [
    "from sklearn.linear_model import LinearRegression"
   ]
  },
  {
   "cell_type": "code",
   "execution_count": 16,
   "id": "bee74539",
   "metadata": {},
   "outputs": [],
   "source": [
    "# model = LinearRegression().fit(X = df[\"PL\"], y = df[\"PW\"])\n",
    "# model"
   ]
  },
  {
   "cell_type": "code",
   "execution_count": 19,
   "id": "a219247f",
   "metadata": {},
   "outputs": [
    {
     "data": {
      "text/plain": [
       "0    1.4\n",
       "1    1.4\n",
       "2    1.3\n",
       "3    1.5\n",
       "4    1.4\n",
       "Name: PL, dtype: float64"
      ]
     },
     "execution_count": 19,
     "metadata": {},
     "output_type": "execute_result"
    }
   ],
   "source": [
    "df[\"PL\"].head()"
   ]
  },
  {
   "cell_type": "code",
   "execution_count": 20,
   "id": "e5e08413",
   "metadata": {},
   "outputs": [
    {
     "data": {
      "text/html": [
       "<div>\n",
       "<style scoped>\n",
       "    .dataframe tbody tr th:only-of-type {\n",
       "        vertical-align: middle;\n",
       "    }\n",
       "\n",
       "    .dataframe tbody tr th {\n",
       "        vertical-align: top;\n",
       "    }\n",
       "\n",
       "    .dataframe thead th {\n",
       "        text-align: right;\n",
       "    }\n",
       "</style>\n",
       "<table border=\"1\" class=\"dataframe\">\n",
       "  <thead>\n",
       "    <tr style=\"text-align: right;\">\n",
       "      <th></th>\n",
       "      <th>PL</th>\n",
       "    </tr>\n",
       "  </thead>\n",
       "  <tbody>\n",
       "    <tr>\n",
       "      <th>0</th>\n",
       "      <td>1.4</td>\n",
       "    </tr>\n",
       "    <tr>\n",
       "      <th>1</th>\n",
       "      <td>1.4</td>\n",
       "    </tr>\n",
       "    <tr>\n",
       "      <th>2</th>\n",
       "      <td>1.3</td>\n",
       "    </tr>\n",
       "    <tr>\n",
       "      <th>3</th>\n",
       "      <td>1.5</td>\n",
       "    </tr>\n",
       "    <tr>\n",
       "      <th>4</th>\n",
       "      <td>1.4</td>\n",
       "    </tr>\n",
       "  </tbody>\n",
       "</table>\n",
       "</div>"
      ],
      "text/plain": [
       "    PL\n",
       "0  1.4\n",
       "1  1.4\n",
       "2  1.3\n",
       "3  1.5\n",
       "4  1.4"
      ]
     },
     "execution_count": 20,
     "metadata": {},
     "output_type": "execute_result"
    }
   ],
   "source": [
    "df[[\"PL\"]].head() # dataframe 구조가 안풀림"
   ]
  },
  {
   "cell_type": "code",
   "execution_count": 21,
   "id": "0e9fedb6",
   "metadata": {},
   "outputs": [
    {
     "data": {
      "text/plain": [
       "SL              5.1\n",
       "SW              3.5\n",
       "PL              1.4\n",
       "PW              0.2\n",
       "species      setosa\n",
       "pred       1.529546\n",
       "Name: 0, dtype: object"
      ]
     },
     "execution_count": 21,
     "metadata": {},
     "output_type": "execute_result"
    }
   ],
   "source": [
    "df.iloc[0, ]"
   ]
  },
  {
   "cell_type": "code",
   "execution_count": 22,
   "id": "9d04d73f",
   "metadata": {},
   "outputs": [
    {
     "data": {
      "text/html": [
       "<div>\n",
       "<style scoped>\n",
       "    .dataframe tbody tr th:only-of-type {\n",
       "        vertical-align: middle;\n",
       "    }\n",
       "\n",
       "    .dataframe tbody tr th {\n",
       "        vertical-align: top;\n",
       "    }\n",
       "\n",
       "    .dataframe thead th {\n",
       "        text-align: right;\n",
       "    }\n",
       "</style>\n",
       "<table border=\"1\" class=\"dataframe\">\n",
       "  <thead>\n",
       "    <tr style=\"text-align: right;\">\n",
       "      <th></th>\n",
       "      <th>SL</th>\n",
       "      <th>SW</th>\n",
       "      <th>PL</th>\n",
       "      <th>PW</th>\n",
       "      <th>species</th>\n",
       "      <th>pred</th>\n",
       "    </tr>\n",
       "  </thead>\n",
       "  <tbody>\n",
       "    <tr>\n",
       "      <th>0</th>\n",
       "      <td>5.1</td>\n",
       "      <td>3.5</td>\n",
       "      <td>1.4</td>\n",
       "      <td>0.2</td>\n",
       "      <td>setosa</td>\n",
       "      <td>1.529546</td>\n",
       "    </tr>\n",
       "  </tbody>\n",
       "</table>\n",
       "</div>"
      ],
      "text/plain": [
       "    SL   SW   PL   PW species      pred\n",
       "0  5.1  3.5  1.4  0.2  setosa  1.529546"
      ]
     },
     "execution_count": 22,
     "metadata": {},
     "output_type": "execute_result"
    }
   ],
   "source": [
    "df.iloc[[0],] # dataframe 구조 안풀림"
   ]
  },
  {
   "cell_type": "code",
   "execution_count": 23,
   "id": "784243ef",
   "metadata": {},
   "outputs": [
    {
     "data": {
      "text/plain": [
       "LinearRegression()"
      ]
     },
     "execution_count": 23,
     "metadata": {},
     "output_type": "execute_result"
    }
   ],
   "source": [
    "model = LinearRegression().fit(X = df[[\"PL\"]], y = df[\"PW\"]) # X에 dataframe 구조로 넣어야함\n",
    "model"
   ]
  },
  {
   "cell_type": "code",
   "execution_count": 24,
   "id": "7ece7306",
   "metadata": {},
   "outputs": [
    {
     "data": {
      "text/plain": [
       "array([0.41575542])"
      ]
     },
     "execution_count": 24,
     "metadata": {},
     "output_type": "execute_result"
    }
   ],
   "source": [
    "model.coef_"
   ]
  },
  {
   "cell_type": "code",
   "execution_count": 25,
   "id": "1eceebb9",
   "metadata": {},
   "outputs": [
    {
     "data": {
      "text/plain": [
       "-0.36307552131902954"
      ]
     },
     "execution_count": 25,
     "metadata": {},
     "output_type": "execute_result"
    }
   ],
   "source": [
    "model.intercept_"
   ]
  },
  {
   "cell_type": "code",
   "execution_count": 29,
   "id": "a1e868f7",
   "metadata": {},
   "outputs": [
    {
     "data": {
      "text/plain": [
       "array([0.21898206, 0.21898206, 0.17740652, 0.2605576 , 0.21898206,\n",
       "       0.34370869, 0.21898206, 0.2605576 , 0.21898206, 0.2605576 ,\n",
       "       0.2605576 , 0.30213314, 0.21898206, 0.09425544, 0.13583098,\n",
       "       0.2605576 , 0.17740652, 0.21898206, 0.34370869, 0.2605576 ,\n",
       "       0.34370869, 0.2605576 , 0.0526799 , 0.34370869, 0.42685977,\n",
       "       0.30213314, 0.30213314, 0.2605576 , 0.21898206, 0.30213314,\n",
       "       0.30213314, 0.2605576 , 0.2605576 , 0.21898206, 0.2605576 ,\n",
       "       0.13583098, 0.17740652, 0.21898206, 0.17740652, 0.2605576 ,\n",
       "       0.17740652, 0.17740652, 0.17740652, 0.30213314, 0.42685977,\n",
       "       0.21898206, 0.30213314, 0.21898206, 0.2605576 , 0.21898206,\n",
       "       1.59097494, 1.50782385, 1.67412602, 1.29994614, 1.54939939,\n",
       "       1.50782385, 1.59097494, 1.00891735, 1.54939939, 1.2583706 ,\n",
       "       1.09206844, 1.38309723, 1.29994614, 1.59097494, 1.13364398,\n",
       "       1.46624831, 1.50782385, 1.34152169, 1.50782385, 1.2583706 ,\n",
       "       1.63255048, 1.29994614, 1.67412602, 1.59097494, 1.42467277,\n",
       "       1.46624831, 1.63255048, 1.71570156, 1.50782385, 1.09206844,\n",
       "       1.21679506, 1.17521952, 1.2583706 , 1.7572771 , 1.50782385,\n",
       "       1.50782385, 1.59097494, 1.46624831, 1.34152169, 1.29994614,\n",
       "       1.46624831, 1.54939939, 1.29994614, 1.00891735, 1.38309723,\n",
       "       1.38309723, 1.38309723, 1.42467277, 0.88419073, 1.34152169,\n",
       "       2.13145698, 1.7572771 , 2.08988144, 1.96515481, 2.04830589,\n",
       "       2.38091023, 1.50782385, 2.2561836 , 2.04830589, 2.17303252,\n",
       "       1.7572771 , 1.84042819, 1.92357927, 1.71570156, 1.7572771 ,\n",
       "       1.84042819, 1.92357927, 2.42248577, 2.50563685, 1.71570156,\n",
       "       2.00673035, 1.67412602, 2.42248577, 1.67412602, 2.00673035,\n",
       "       2.13145698, 1.63255048, 1.67412602, 1.96515481, 2.04830589,\n",
       "       2.17303252, 2.29775914, 1.96515481, 1.7572771 , 1.96515481,\n",
       "       2.17303252, 1.96515481, 1.92357927, 1.63255048, 1.88200373,\n",
       "       1.96515481, 1.7572771 , 1.7572771 , 2.08988144, 2.00673035,\n",
       "       1.79885264, 1.71570156, 1.79885264, 1.88200373, 1.7572771 ])"
      ]
     },
     "execution_count": 29,
     "metadata": {},
     "output_type": "execute_result"
    }
   ],
   "source": [
    "model.predict(df[[\"PL\"]])"
   ]
  },
  {
   "cell_type": "code",
   "execution_count": 3,
   "id": "9a7fd60e",
   "metadata": {},
   "outputs": [],
   "source": [
    "from sklearn.metrics import mean_absolute_error\n",
    "from sklearn.metrics import mean_squared_error"
   ]
  },
  {
   "cell_type": "code",
   "execution_count": 32,
   "id": "339d3711",
   "metadata": {},
   "outputs": [
    {
     "data": {
      "text/plain": [
       "2.558666666666667"
      ]
     },
     "execution_count": 32,
     "metadata": {},
     "output_type": "execute_result"
    }
   ],
   "source": [
    "mean_absolute_error(y_true = df[\"PL\"], y_pred = df[\"PW\"]) # 실제 y와 예측한 y를 비교하는 방법들"
   ]
  },
  {
   "cell_type": "code",
   "execution_count": 33,
   "id": "f46ad9c0",
   "metadata": {},
   "outputs": [
    {
     "data": {
      "text/plain": [
       "7.645466666666667"
      ]
     },
     "execution_count": 33,
     "metadata": {},
     "output_type": "execute_result"
    }
   ],
   "source": [
    "mean_squared_error(y_true = df[\"PL\"], y_pred = df[\"PW\"])"
   ]
  },
  {
   "cell_type": "code",
   "execution_count": 34,
   "id": "ec575abe",
   "metadata": {},
   "outputs": [
    {
     "data": {
      "text/plain": [
       "2.76504370067937"
      ]
     },
     "execution_count": 34,
     "metadata": {},
     "output_type": "execute_result"
    }
   ],
   "source": [
    "mean_squared_error(y_true = df[\"PL\"], y_pred = df[\"PW\"]) ** 0.5"
   ]
  },
  {
   "cell_type": "code",
   "execution_count": 11,
   "id": "63f2f2b8",
   "metadata": {},
   "outputs": [
    {
     "data": {
      "text/html": [
       "<div>\n",
       "<style scoped>\n",
       "    .dataframe tbody tr th:only-of-type {\n",
       "        vertical-align: middle;\n",
       "    }\n",
       "\n",
       "    .dataframe tbody tr th {\n",
       "        vertical-align: top;\n",
       "    }\n",
       "\n",
       "    .dataframe thead th {\n",
       "        text-align: right;\n",
       "    }\n",
       "</style>\n",
       "<table border=\"1\" class=\"dataframe\">\n",
       "  <thead>\n",
       "    <tr style=\"text-align: right;\">\n",
       "      <th></th>\n",
       "      <th>datetime</th>\n",
       "      <th>season</th>\n",
       "      <th>holiday</th>\n",
       "      <th>workingday</th>\n",
       "      <th>weather</th>\n",
       "      <th>temp</th>\n",
       "      <th>atemp</th>\n",
       "      <th>humidity</th>\n",
       "      <th>windspeed</th>\n",
       "      <th>casual</th>\n",
       "      <th>registered</th>\n",
       "      <th>count</th>\n",
       "    </tr>\n",
       "  </thead>\n",
       "  <tbody>\n",
       "    <tr>\n",
       "      <th>0</th>\n",
       "      <td>2011-01-01 00:00:00</td>\n",
       "      <td>1</td>\n",
       "      <td>0</td>\n",
       "      <td>0</td>\n",
       "      <td>1</td>\n",
       "      <td>9.84</td>\n",
       "      <td>14.395</td>\n",
       "      <td>81</td>\n",
       "      <td>0.0</td>\n",
       "      <td>3</td>\n",
       "      <td>13</td>\n",
       "      <td>16</td>\n",
       "    </tr>\n",
       "    <tr>\n",
       "      <th>1</th>\n",
       "      <td>2011-01-01 01:00:00</td>\n",
       "      <td>1</td>\n",
       "      <td>0</td>\n",
       "      <td>0</td>\n",
       "      <td>1</td>\n",
       "      <td>9.02</td>\n",
       "      <td>13.635</td>\n",
       "      <td>80</td>\n",
       "      <td>0.0</td>\n",
       "      <td>8</td>\n",
       "      <td>32</td>\n",
       "      <td>40</td>\n",
       "    </tr>\n",
       "    <tr>\n",
       "      <th>2</th>\n",
       "      <td>2011-01-01 02:00:00</td>\n",
       "      <td>1</td>\n",
       "      <td>0</td>\n",
       "      <td>0</td>\n",
       "      <td>1</td>\n",
       "      <td>9.02</td>\n",
       "      <td>13.635</td>\n",
       "      <td>80</td>\n",
       "      <td>0.0</td>\n",
       "      <td>5</td>\n",
       "      <td>27</td>\n",
       "      <td>32</td>\n",
       "    </tr>\n",
       "    <tr>\n",
       "      <th>3</th>\n",
       "      <td>2011-01-01 03:00:00</td>\n",
       "      <td>1</td>\n",
       "      <td>0</td>\n",
       "      <td>0</td>\n",
       "      <td>1</td>\n",
       "      <td>9.84</td>\n",
       "      <td>14.395</td>\n",
       "      <td>75</td>\n",
       "      <td>0.0</td>\n",
       "      <td>3</td>\n",
       "      <td>10</td>\n",
       "      <td>13</td>\n",
       "    </tr>\n",
       "    <tr>\n",
       "      <th>4</th>\n",
       "      <td>2011-01-01 04:00:00</td>\n",
       "      <td>1</td>\n",
       "      <td>0</td>\n",
       "      <td>0</td>\n",
       "      <td>1</td>\n",
       "      <td>9.84</td>\n",
       "      <td>14.395</td>\n",
       "      <td>75</td>\n",
       "      <td>0.0</td>\n",
       "      <td>0</td>\n",
       "      <td>1</td>\n",
       "      <td>1</td>\n",
       "    </tr>\n",
       "  </tbody>\n",
       "</table>\n",
       "</div>"
      ],
      "text/plain": [
       "              datetime  season  holiday  workingday  weather  temp   atemp  \\\n",
       "0  2011-01-01 00:00:00       1        0           0        1  9.84  14.395   \n",
       "1  2011-01-01 01:00:00       1        0           0        1  9.02  13.635   \n",
       "2  2011-01-01 02:00:00       1        0           0        1  9.02  13.635   \n",
       "3  2011-01-01 03:00:00       1        0           0        1  9.84  14.395   \n",
       "4  2011-01-01 04:00:00       1        0           0        1  9.84  14.395   \n",
       "\n",
       "   humidity  windspeed  casual  registered  count  \n",
       "0        81        0.0       3          13     16  \n",
       "1        80        0.0       8          32     40  \n",
       "2        80        0.0       5          27     32  \n",
       "3        75        0.0       3          10     13  \n",
       "4        75        0.0       0           1      1  "
      ]
     },
     "execution_count": 11,
     "metadata": {},
     "output_type": "execute_result"
    }
   ],
   "source": [
    "# 1번 문제\n",
    "bike = pd.read_csv(\"bike.csv\")\n",
    "bike.head()"
   ]
  },
  {
   "cell_type": "code",
   "execution_count": 12,
   "id": "d36117c7",
   "metadata": {},
   "outputs": [],
   "source": [
    "from sklearn.model_selection import train_test_split\n",
    "# df_train, df_test = train_test_split(df, train_size = 0.7, random_state = 123)\n",
    "bike_tr, bike_t = train_test_split(bike, train_size = 0.7, random_state = 123)"
   ]
  },
  {
   "cell_type": "code",
   "execution_count": 13,
   "id": "19b1319f",
   "metadata": {},
   "outputs": [
    {
     "data": {
      "text/html": [
       "<table class=\"simpletable\">\n",
       "<caption>OLS Regression Results</caption>\n",
       "<tr>\n",
       "  <th>Dep. Variable:</th>       <td>registered</td>    <th>  R-squared:         </th> <td>   0.106</td> \n",
       "</tr>\n",
       "<tr>\n",
       "  <th>Model:</th>                   <td>OLS</td>       <th>  Adj. R-squared:    </th> <td>   0.106</td> \n",
       "</tr>\n",
       "<tr>\n",
       "  <th>Method:</th>             <td>Least Squares</td>  <th>  F-statistic:       </th> <td>   902.3</td> \n",
       "</tr>\n",
       "<tr>\n",
       "  <th>Date:</th>             <td>Thu, 02 Feb 2023</td> <th>  Prob (F-statistic):</th> <td>1.92e-187</td>\n",
       "</tr>\n",
       "<tr>\n",
       "  <th>Time:</th>                 <td>14:16:49</td>     <th>  Log-Likelihood:    </th> <td> -48650.</td> \n",
       "</tr>\n",
       "<tr>\n",
       "  <th>No. Observations:</th>      <td>  7620</td>      <th>  AIC:               </th> <td>9.730e+04</td>\n",
       "</tr>\n",
       "<tr>\n",
       "  <th>Df Residuals:</th>          <td>  7618</td>      <th>  BIC:               </th> <td>9.732e+04</td>\n",
       "</tr>\n",
       "<tr>\n",
       "  <th>Df Model:</th>              <td>     1</td>      <th>                     </th>     <td> </td>    \n",
       "</tr>\n",
       "<tr>\n",
       "  <th>Covariance Type:</th>      <td>nonrobust</td>    <th>                     </th>     <td> </td>    \n",
       "</tr>\n",
       "</table>\n",
       "<table class=\"simpletable\">\n",
       "<tr>\n",
       "      <td></td>         <th>coef</th>     <th>std err</th>      <th>t</th>      <th>P>|t|</th>  <th>[0.025</th>    <th>0.975]</th>  \n",
       "</tr>\n",
       "<tr>\n",
       "  <th>Intercept</th> <td>   27.5151</td> <td>    4.559</td> <td>    6.036</td> <td> 0.000</td> <td>   18.579</td> <td>   36.452</td>\n",
       "</tr>\n",
       "<tr>\n",
       "  <th>temp</th>      <td>    6.3391</td> <td>    0.211</td> <td>   30.038</td> <td> 0.000</td> <td>    5.925</td> <td>    6.753</td>\n",
       "</tr>\n",
       "</table>\n",
       "<table class=\"simpletable\">\n",
       "<tr>\n",
       "  <th>Omnibus:</th>       <td>2097.525</td> <th>  Durbin-Watson:     </th> <td>   2.022</td>\n",
       "</tr>\n",
       "<tr>\n",
       "  <th>Prob(Omnibus):</th>  <td> 0.000</td>  <th>  Jarque-Bera (JB):  </th> <td>5337.402</td>\n",
       "</tr>\n",
       "<tr>\n",
       "  <th>Skew:</th>           <td> 1.502</td>  <th>  Prob(JB):          </th> <td>    0.00</td>\n",
       "</tr>\n",
       "<tr>\n",
       "  <th>Kurtosis:</th>       <td> 5.790</td>  <th>  Cond. No.          </th> <td>    60.1</td>\n",
       "</tr>\n",
       "</table><br/><br/>Notes:<br/>[1] Standard Errors assume that the covariance matrix of the errors is correctly specified."
      ],
      "text/plain": [
       "<class 'statsmodels.iolib.summary.Summary'>\n",
       "\"\"\"\n",
       "                            OLS Regression Results                            \n",
       "==============================================================================\n",
       "Dep. Variable:             registered   R-squared:                       0.106\n",
       "Model:                            OLS   Adj. R-squared:                  0.106\n",
       "Method:                 Least Squares   F-statistic:                     902.3\n",
       "Date:                Thu, 02 Feb 2023   Prob (F-statistic):          1.92e-187\n",
       "Time:                        14:16:49   Log-Likelihood:                -48650.\n",
       "No. Observations:                7620   AIC:                         9.730e+04\n",
       "Df Residuals:                    7618   BIC:                         9.732e+04\n",
       "Df Model:                           1                                         \n",
       "Covariance Type:            nonrobust                                         \n",
       "==============================================================================\n",
       "                 coef    std err          t      P>|t|      [0.025      0.975]\n",
       "------------------------------------------------------------------------------\n",
       "Intercept     27.5151      4.559      6.036      0.000      18.579      36.452\n",
       "temp           6.3391      0.211     30.038      0.000       5.925       6.753\n",
       "==============================================================================\n",
       "Omnibus:                     2097.525   Durbin-Watson:                   2.022\n",
       "Prob(Omnibus):                  0.000   Jarque-Bera (JB):             5337.402\n",
       "Skew:                           1.502   Prob(JB):                         0.00\n",
       "Kurtosis:                       5.790   Cond. No.                         60.1\n",
       "==============================================================================\n",
       "\n",
       "Notes:\n",
       "[1] Standard Errors assume that the covariance matrix of the errors is correctly specified.\n",
       "\"\"\""
      ]
     },
     "execution_count": 13,
     "metadata": {},
     "output_type": "execute_result"
    }
   ],
   "source": [
    "# model = ols(formula = \"PL ~ PW\", data = df).fit()\n",
    "model = ols(formula = \"registered ~ temp\", data = bike_tr).fit()\n",
    "model.summary()"
   ]
  },
  {
   "cell_type": "code",
   "execution_count": 15,
   "id": "64e28a03",
   "metadata": {},
   "outputs": [
    {
     "data": {
      "text/html": [
       "<table class=\"simpletable\">\n",
       "<caption>OLS Regression Results</caption>\n",
       "<tr>\n",
       "  <th>Dep. Variable:</th>         <td>casual</td>      <th>  R-squared:         </th> <td>   0.219</td> \n",
       "</tr>\n",
       "<tr>\n",
       "  <th>Model:</th>                   <td>OLS</td>       <th>  Adj. R-squared:    </th> <td>   0.219</td> \n",
       "</tr>\n",
       "<tr>\n",
       "  <th>Method:</th>             <td>Least Squares</td>  <th>  F-statistic:       </th> <td>   2138.</td> \n",
       "</tr>\n",
       "<tr>\n",
       "  <th>Date:</th>             <td>Thu, 02 Feb 2023</td> <th>  Prob (F-statistic):</th>  <td>  0.00</td>  \n",
       "</tr>\n",
       "<tr>\n",
       "  <th>Time:</th>                 <td>14:19:22</td>     <th>  Log-Likelihood:    </th> <td> -39689.</td> \n",
       "</tr>\n",
       "<tr>\n",
       "  <th>No. Observations:</th>      <td>  7620</td>      <th>  AIC:               </th> <td>7.938e+04</td>\n",
       "</tr>\n",
       "<tr>\n",
       "  <th>Df Residuals:</th>          <td>  7618</td>      <th>  BIC:               </th> <td>7.940e+04</td>\n",
       "</tr>\n",
       "<tr>\n",
       "  <th>Df Model:</th>              <td>     1</td>      <th>                     </th>     <td> </td>    \n",
       "</tr>\n",
       "<tr>\n",
       "  <th>Covariance Type:</th>      <td>nonrobust</td>    <th>                     </th>     <td> </td>    \n",
       "</tr>\n",
       "</table>\n",
       "<table class=\"simpletable\">\n",
       "<tr>\n",
       "      <td></td>         <th>coef</th>     <th>std err</th>      <th>t</th>      <th>P>|t|</th>  <th>[0.025</th>    <th>0.975]</th>  \n",
       "</tr>\n",
       "<tr>\n",
       "  <th>Intercept</th> <td>  -29.2974</td> <td>    1.498</td> <td>  -19.554</td> <td> 0.000</td> <td>  -32.234</td> <td>  -26.360</td>\n",
       "</tr>\n",
       "<tr>\n",
       "  <th>atemp</th>     <td>    2.7672</td> <td>    0.060</td> <td>   46.243</td> <td> 0.000</td> <td>    2.650</td> <td>    2.885</td>\n",
       "</tr>\n",
       "</table>\n",
       "<table class=\"simpletable\">\n",
       "<tr>\n",
       "  <th>Omnibus:</th>       <td>4125.373</td> <th>  Durbin-Watson:     </th> <td>   1.973</td> \n",
       "</tr>\n",
       "<tr>\n",
       "  <th>Prob(Omnibus):</th>  <td> 0.000</td>  <th>  Jarque-Bera (JB):  </th> <td>34148.771</td>\n",
       "</tr>\n",
       "<tr>\n",
       "  <th>Skew:</th>           <td> 2.494</td>  <th>  Prob(JB):          </th> <td>    0.00</td> \n",
       "</tr>\n",
       "<tr>\n",
       "  <th>Kurtosis:</th>       <td>12.092</td>  <th>  Cond. No.          </th> <td>    74.1</td> \n",
       "</tr>\n",
       "</table><br/><br/>Notes:<br/>[1] Standard Errors assume that the covariance matrix of the errors is correctly specified."
      ],
      "text/plain": [
       "<class 'statsmodels.iolib.summary.Summary'>\n",
       "\"\"\"\n",
       "                            OLS Regression Results                            \n",
       "==============================================================================\n",
       "Dep. Variable:                 casual   R-squared:                       0.219\n",
       "Model:                            OLS   Adj. R-squared:                  0.219\n",
       "Method:                 Least Squares   F-statistic:                     2138.\n",
       "Date:                Thu, 02 Feb 2023   Prob (F-statistic):               0.00\n",
       "Time:                        14:19:22   Log-Likelihood:                -39689.\n",
       "No. Observations:                7620   AIC:                         7.938e+04\n",
       "Df Residuals:                    7618   BIC:                         7.940e+04\n",
       "Df Model:                           1                                         \n",
       "Covariance Type:            nonrobust                                         \n",
       "==============================================================================\n",
       "                 coef    std err          t      P>|t|      [0.025      0.975]\n",
       "------------------------------------------------------------------------------\n",
       "Intercept    -29.2974      1.498    -19.554      0.000     -32.234     -26.360\n",
       "atemp          2.7672      0.060     46.243      0.000       2.650       2.885\n",
       "==============================================================================\n",
       "Omnibus:                     4125.373   Durbin-Watson:                   1.973\n",
       "Prob(Omnibus):                  0.000   Jarque-Bera (JB):            34148.771\n",
       "Skew:                           2.494   Prob(JB):                         0.00\n",
       "Kurtosis:                      12.092   Cond. No.                         74.1\n",
       "==============================================================================\n",
       "\n",
       "Notes:\n",
       "[1] Standard Errors assume that the covariance matrix of the errors is correctly specified.\n",
       "\"\"\""
      ]
     },
     "execution_count": 15,
     "metadata": {},
     "output_type": "execute_result"
    }
   ],
   "source": [
    "# 2번 문제\n",
    "model = ols(formula = \"casual ~ atemp\", data = bike_tr).fit()\n",
    "model.summary()"
   ]
  },
  {
   "cell_type": "code",
   "execution_count": 16,
   "id": "39dc4fea",
   "metadata": {},
   "outputs": [
    {
     "data": {
      "text/html": [
       "<div>\n",
       "<style scoped>\n",
       "    .dataframe tbody tr th:only-of-type {\n",
       "        vertical-align: middle;\n",
       "    }\n",
       "\n",
       "    .dataframe tbody tr th {\n",
       "        vertical-align: top;\n",
       "    }\n",
       "\n",
       "    .dataframe thead th {\n",
       "        text-align: right;\n",
       "    }\n",
       "</style>\n",
       "<table border=\"1\" class=\"dataframe\">\n",
       "  <thead>\n",
       "    <tr style=\"text-align: right;\">\n",
       "      <th></th>\n",
       "      <th>datetime</th>\n",
       "      <th>season</th>\n",
       "      <th>holiday</th>\n",
       "      <th>workingday</th>\n",
       "      <th>weather</th>\n",
       "      <th>temp</th>\n",
       "      <th>atemp</th>\n",
       "      <th>humidity</th>\n",
       "      <th>windspeed</th>\n",
       "      <th>casual</th>\n",
       "      <th>registered</th>\n",
       "      <th>count</th>\n",
       "      <th>pred</th>\n",
       "    </tr>\n",
       "  </thead>\n",
       "  <tbody>\n",
       "    <tr>\n",
       "      <th>6495</th>\n",
       "      <td>2012-03-07 21:00:00</td>\n",
       "      <td>1</td>\n",
       "      <td>0</td>\n",
       "      <td>1</td>\n",
       "      <td>1</td>\n",
       "      <td>18.04</td>\n",
       "      <td>21.970</td>\n",
       "      <td>62</td>\n",
       "      <td>16.9979</td>\n",
       "      <td>11</td>\n",
       "      <td>177</td>\n",
       "      <td>188</td>\n",
       "      <td>31.499001</td>\n",
       "    </tr>\n",
       "    <tr>\n",
       "      <th>7050</th>\n",
       "      <td>2012-04-12 03:00:00</td>\n",
       "      <td>2</td>\n",
       "      <td>0</td>\n",
       "      <td>1</td>\n",
       "      <td>1</td>\n",
       "      <td>13.12</td>\n",
       "      <td>15.150</td>\n",
       "      <td>61</td>\n",
       "      <td>16.9979</td>\n",
       "      <td>2</td>\n",
       "      <td>3</td>\n",
       "      <td>5</td>\n",
       "      <td>12.626390</td>\n",
       "    </tr>\n",
       "    <tr>\n",
       "      <th>558</th>\n",
       "      <td>2011-02-06 10:00:00</td>\n",
       "      <td>1</td>\n",
       "      <td>0</td>\n",
       "      <td>0</td>\n",
       "      <td>1</td>\n",
       "      <td>12.30</td>\n",
       "      <td>14.395</td>\n",
       "      <td>52</td>\n",
       "      <td>16.9979</td>\n",
       "      <td>15</td>\n",
       "      <td>74</td>\n",
       "      <td>89</td>\n",
       "      <td>10.537120</td>\n",
       "    </tr>\n",
       "    <tr>\n",
       "      <th>5085</th>\n",
       "      <td>2011-12-05 23:00:00</td>\n",
       "      <td>4</td>\n",
       "      <td>0</td>\n",
       "      <td>1</td>\n",
       "      <td>2</td>\n",
       "      <td>18.86</td>\n",
       "      <td>22.725</td>\n",
       "      <td>88</td>\n",
       "      <td>8.9981</td>\n",
       "      <td>8</td>\n",
       "      <td>54</td>\n",
       "      <td>62</td>\n",
       "      <td>33.588271</td>\n",
       "    </tr>\n",
       "    <tr>\n",
       "      <th>3328</th>\n",
       "      <td>2011-08-08 14:00:00</td>\n",
       "      <td>3</td>\n",
       "      <td>0</td>\n",
       "      <td>1</td>\n",
       "      <td>1</td>\n",
       "      <td>33.62</td>\n",
       "      <td>37.120</td>\n",
       "      <td>43</td>\n",
       "      <td>19.9995</td>\n",
       "      <td>41</td>\n",
       "      <td>109</td>\n",
       "      <td>150</td>\n",
       "      <td>73.422763</td>\n",
       "    </tr>\n",
       "  </tbody>\n",
       "</table>\n",
       "</div>"
      ],
      "text/plain": [
       "                 datetime  season  holiday  workingday  weather   temp  \\\n",
       "6495  2012-03-07 21:00:00       1        0           1        1  18.04   \n",
       "7050  2012-04-12 03:00:00       2        0           1        1  13.12   \n",
       "558   2011-02-06 10:00:00       1        0           0        1  12.30   \n",
       "5085  2011-12-05 23:00:00       4        0           1        2  18.86   \n",
       "3328  2011-08-08 14:00:00       3        0           1        1  33.62   \n",
       "\n",
       "       atemp  humidity  windspeed  casual  registered  count       pred  \n",
       "6495  21.970        62    16.9979      11         177    188  31.499001  \n",
       "7050  15.150        61    16.9979       2           3      5  12.626390  \n",
       "558   14.395        52    16.9979      15          74     89  10.537120  \n",
       "5085  22.725        88     8.9981       8          54     62  33.588271  \n",
       "3328  37.120        43    19.9995      41         109    150  73.422763  "
      ]
     },
     "execution_count": 16,
     "metadata": {},
     "output_type": "execute_result"
    }
   ],
   "source": [
    "bike_t[\"pred\"] = model.predict(bike_t)\n",
    "bike_t.head()"
   ]
  },
  {
   "cell_type": "code",
   "execution_count": 17,
   "id": "54a63145",
   "metadata": {},
   "outputs": [
    {
     "data": {
      "text/plain": [
       "44.46237010271433"
      ]
     },
     "execution_count": 17,
     "metadata": {},
     "output_type": "execute_result"
    }
   ],
   "source": [
    "mean_squared_error(y_true = bike_t[\"casual\"], y_pred = bike_t[\"pred\"]) ** 0.5"
   ]
  },
  {
   "cell_type": "code",
   "execution_count": 21,
   "id": "65846d0b",
   "metadata": {},
   "outputs": [
    {
     "name": "stdout",
     "output_type": "stream",
     "text": [
      "                 datetime  season  holiday  workingday  weather   temp  atemp  \\\n",
      "1323  2011-04-01 00:00:00       2        0           1        3  10.66  12.88   \n",
      "1324  2011-04-01 01:00:00       2        0           1        3  10.66  12.88   \n",
      "\n",
      "      humidity  windspeed  casual  registered  count  \n",
      "1323       100    11.0014       0           6      6  \n",
      "1324       100    11.0014       0           4      4  \n",
      "                 datetime  season  holiday  workingday  weather   temp  \\\n",
      "4055  2011-10-01 00:00:00       4        0           0        1  20.50   \n",
      "4056  2011-10-01 01:00:00       4        0           0        1  19.68   \n",
      "\n",
      "       atemp  humidity  windspeed  casual  registered  count  \n",
      "4055  24.240        63    26.0027      24         106    130  \n",
      "4056  23.485        67    22.0028      11          47     58  \n"
     ]
    }
   ],
   "source": [
    "# 3번 문제\n",
    "summer = bike.loc[bike[\"season\"] == 2, ]\n",
    "print(summer.head(2))\n",
    "winter = bike.loc[bike[\"season\"] == 4, ]\n",
    "print(winter.head(2))"
   ]
  },
  {
   "cell_type": "code",
   "execution_count": 23,
   "id": "6d507c59",
   "metadata": {},
   "outputs": [],
   "source": [
    "summer_tr, summer_t = train_test_split(summer, train_size = 0.7, random_state = 123)\n",
    "winter_tr, winter_t = train_test_split(winter, train_size = 0.7, random_state = 123)"
   ]
  },
  {
   "cell_type": "code",
   "execution_count": 25,
   "id": "fdbf2a3d",
   "metadata": {},
   "outputs": [
    {
     "data": {
      "text/plain": [
       "8.648423450414171"
      ]
     },
     "execution_count": 25,
     "metadata": {},
     "output_type": "execute_result"
    }
   ],
   "source": [
    "model_summ = ols(formula = \"casual ~ atemp\", data = summer_tr).fit()\n",
    "model_wint = ols(formula = \"casual ~ atemp\", data = winter_tr).fit()\n",
    "rmse_summ = mean_squared_error(y_true = summer_t[\"casual\"],\n",
    "                               y_pred = model_summ.predict(summer_t)) ** 0.5\n",
    "rmse_wint = mean_squared_error(y_true = winter_t[\"casual\"],\n",
    "                               y_pred = model_wint.predict(winter_t)) ** 0.5\n",
    "abs(rmse_summ - rmse_wint)"
   ]
  },
  {
   "cell_type": "code",
   "execution_count": null,
   "id": "ea22604d",
   "metadata": {},
   "outputs": [],
   "source": []
  },
  {
   "cell_type": "code",
   "execution_count": 20,
   "id": "17fabe47",
   "metadata": {},
   "outputs": [
    {
     "data": {
      "text/plain": [
       "14.5923026178356"
      ]
     },
     "execution_count": 20,
     "metadata": {},
     "output_type": "execute_result"
    }
   ],
   "source": [
    "summer_rmse = mean_squared_error(y_true = summer[\"casual\"], y_pred = summer[\"pred\"]) ** 0.5\n",
    "winter_rmse = mean_squared_error(y_true = winter[\"casual\"], y_pred = winter[\"pred\"]) ** 0.5\n",
    "abs(summer_rmse - winter_rmse)"
   ]
  },
  {
   "cell_type": "code",
   "execution_count": null,
   "id": "4f866ade",
   "metadata": {},
   "outputs": [],
   "source": []
  }
 ],
 "metadata": {
  "kernelspec": {
   "display_name": "Python 3 (ipykernel)",
   "language": "python",
   "name": "python3"
  },
  "language_info": {
   "codemirror_mode": {
    "name": "ipython",
    "version": 3
   },
   "file_extension": ".py",
   "mimetype": "text/x-python",
   "name": "python",
   "nbconvert_exporter": "python",
   "pygments_lexer": "ipython3",
   "version": "3.7.4"
  }
 },
 "nbformat": 4,
 "nbformat_minor": 5
}
