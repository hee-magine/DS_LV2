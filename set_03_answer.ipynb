{
 "cells": [
  {
   "cell_type": "code",
   "execution_count": 1,
   "id": "913b7839",
   "metadata": {},
   "outputs": [],
   "source": [
    "import pandas as pd\n",
    "import numpy as np"
   ]
  },
  {
   "cell_type": "code",
   "execution_count": 2,
   "id": "d8f25832",
   "metadata": {},
   "outputs": [],
   "source": [
    "from sklearn.preprocessing import MinMaxScaler\n",
    "from sklearn.model_selection import train_test_split\n",
    "from sklearn.neighbors import KNeighborsRegressor\n",
    "from sklearn.metrics import mean_squared_error"
   ]
  },
  {
   "cell_type": "code",
   "execution_count": 3,
   "id": "feee74e0",
   "metadata": {},
   "outputs": [
    {
     "data": {
      "text/html": [
       "<div>\n",
       "<style scoped>\n",
       "    .dataframe tbody tr th:only-of-type {\n",
       "        vertical-align: middle;\n",
       "    }\n",
       "\n",
       "    .dataframe tbody tr th {\n",
       "        vertical-align: top;\n",
       "    }\n",
       "\n",
       "    .dataframe thead th {\n",
       "        text-align: right;\n",
       "    }\n",
       "</style>\n",
       "<table border=\"1\" class=\"dataframe\">\n",
       "  <thead>\n",
       "    <tr style=\"text-align: right;\">\n",
       "      <th></th>\n",
       "      <th>screen_size</th>\n",
       "      <th>ROM</th>\n",
       "      <th>RAM</th>\n",
       "      <th>num_rear_camera</th>\n",
       "      <th>num_front_camera</th>\n",
       "      <th>battery_capacity</th>\n",
       "      <th>ratings</th>\n",
       "      <th>num_of_ratings</th>\n",
       "      <th>sales_price</th>\n",
       "      <th>discount_percent</th>\n",
       "      <th>sales</th>\n",
       "    </tr>\n",
       "  </thead>\n",
       "  <tbody>\n",
       "    <tr>\n",
       "      <th>0</th>\n",
       "      <td>Very Small</td>\n",
       "      <td>64</td>\n",
       "      <td>2</td>\n",
       "      <td>1</td>\n",
       "      <td>1</td>\n",
       "      <td>1800</td>\n",
       "      <td>4.5</td>\n",
       "      <td>38645</td>\n",
       "      <td>32999</td>\n",
       "      <td>0.17</td>\n",
       "      <td>127.52</td>\n",
       "    </tr>\n",
       "    <tr>\n",
       "      <th>1</th>\n",
       "      <td>Small</td>\n",
       "      <td>64</td>\n",
       "      <td>4</td>\n",
       "      <td>2</td>\n",
       "      <td>1</td>\n",
       "      <td>2815</td>\n",
       "      <td>4.5</td>\n",
       "      <td>244</td>\n",
       "      <td>57149</td>\n",
       "      <td>0.04</td>\n",
       "      <td>1.39</td>\n",
       "    </tr>\n",
       "  </tbody>\n",
       "</table>\n",
       "</div>"
      ],
      "text/plain": [
       "  screen_size  ROM  RAM  num_rear_camera  num_front_camera  battery_capacity  \\\n",
       "0  Very Small   64    2                1                 1              1800   \n",
       "1       Small   64    4                2                 1              2815   \n",
       "\n",
       "   ratings  num_of_ratings  sales_price  discount_percent   sales  \n",
       "0      4.5           38645        32999              0.17  127.52  \n",
       "1      4.5             244        57149              0.04    1.39  "
      ]
     },
     "execution_count": 3,
     "metadata": {},
     "output_type": "execute_result"
    }
   ],
   "source": [
    "df = pd.read_csv(\"02_Test_Data_Set/mobiles.csv\")\n",
    "df.head(2)"
   ]
  },
  {
   "cell_type": "markdown",
   "id": "32b76778",
   "metadata": {},
   "source": [
    "### Q1."
   ]
  },
  {
   "cell_type": "code",
   "execution_count": 6,
   "id": "c30ad633",
   "metadata": {},
   "outputs": [
    {
     "data": {
      "text/plain": [
       "146.55150129273218"
      ]
     },
     "execution_count": 6,
     "metadata": {},
     "output_type": "execute_result"
    }
   ],
   "source": [
    "stat_mean = df[\"sales\"].mean()\n",
    "stat_std  = df[\"sales\"].std()\n",
    "stat_out  = stat_mean + stat_std * 2\n",
    "stat_out"
   ]
  },
  {
   "cell_type": "code",
   "execution_count": 7,
   "id": "c4cde1e9",
   "metadata": {
    "collapsed": true
   },
   "outputs": [
    {
     "data": {
      "text/html": [
       "<div>\n",
       "<style scoped>\n",
       "    .dataframe tbody tr th:only-of-type {\n",
       "        vertical-align: middle;\n",
       "    }\n",
       "\n",
       "    .dataframe tbody tr th {\n",
       "        vertical-align: top;\n",
       "    }\n",
       "\n",
       "    .dataframe thead th {\n",
       "        text-align: right;\n",
       "    }\n",
       "</style>\n",
       "<table border=\"1\" class=\"dataframe\">\n",
       "  <thead>\n",
       "    <tr style=\"text-align: right;\">\n",
       "      <th></th>\n",
       "      <th>screen_size</th>\n",
       "      <th>ROM</th>\n",
       "      <th>RAM</th>\n",
       "      <th>num_rear_camera</th>\n",
       "      <th>num_front_camera</th>\n",
       "      <th>battery_capacity</th>\n",
       "      <th>ratings</th>\n",
       "      <th>num_of_ratings</th>\n",
       "      <th>sales_price</th>\n",
       "      <th>discount_percent</th>\n",
       "      <th>sales</th>\n",
       "    </tr>\n",
       "  </thead>\n",
       "  <tbody>\n",
       "    <tr>\n",
       "      <th>0</th>\n",
       "      <td>Medium</td>\n",
       "      <td>128</td>\n",
       "      <td>6</td>\n",
       "      <td>2</td>\n",
       "      <td>1</td>\n",
       "      <td>4000</td>\n",
       "      <td>4.6</td>\n",
       "      <td>122001</td>\n",
       "      <td>18999</td>\n",
       "      <td>0.09</td>\n",
       "      <td>231.79</td>\n",
       "    </tr>\n",
       "    <tr>\n",
       "      <th>1</th>\n",
       "      <td>Large</td>\n",
       "      <td>128</td>\n",
       "      <td>6</td>\n",
       "      <td>4</td>\n",
       "      <td>2</td>\n",
       "      <td>4500</td>\n",
       "      <td>4.5</td>\n",
       "      <td>267028</td>\n",
       "      <td>15999</td>\n",
       "      <td>0.20</td>\n",
       "      <td>427.22</td>\n",
       "    </tr>\n",
       "  </tbody>\n",
       "</table>\n",
       "</div>"
      ],
      "text/plain": [
       "  screen_size  ROM  RAM  num_rear_camera  num_front_camera  battery_capacity  \\\n",
       "0      Medium  128    6                2                 1              4000   \n",
       "1       Large  128    6                4                 2              4500   \n",
       "\n",
       "   ratings  num_of_ratings  sales_price  discount_percent   sales  \n",
       "0      4.6          122001        18999              0.09  231.79  \n",
       "1      4.5          267028        15999              0.20  427.22  "
      ]
     },
     "execution_count": 7,
     "metadata": {},
     "output_type": "execute_result"
    }
   ],
   "source": [
    "df_q1 = df.loc[df[\"sales\"] > stat_out, ].reset_index(drop = True)\n",
    "df_q1.head(2)"
   ]
  },
  {
   "cell_type": "code",
   "execution_count": 8,
   "id": "ffe19156",
   "metadata": {},
   "outputs": [
    {
     "data": {
      "text/plain": [
       "(430, 16)"
      ]
     },
     "execution_count": 8,
     "metadata": {},
     "output_type": "execute_result"
    }
   ],
   "source": [
    "len(df), len(df_q1)"
   ]
  },
  {
   "cell_type": "code",
   "execution_count": 11,
   "id": "beed25d5",
   "metadata": {},
   "outputs": [],
   "source": [
    "df_q1[\"idx\"] = (df_q1[\"ROM\"] / 32) + (df_q1[\"RAM\"] / 2) + \\\n",
    "(df_q1[\"num_front_camera\"] + df_q1[\"num_rear_camera\"]) + \\\n",
    "(df_q1[\"battery_capacity\"] / 1000)"
   ]
  },
  {
   "cell_type": "code",
   "execution_count": 12,
   "id": "9920d275",
   "metadata": {
    "collapsed": true
   },
   "outputs": [
    {
     "data": {
      "text/html": [
       "<div>\n",
       "<style scoped>\n",
       "    .dataframe tbody tr th:only-of-type {\n",
       "        vertical-align: middle;\n",
       "    }\n",
       "\n",
       "    .dataframe tbody tr th {\n",
       "        vertical-align: top;\n",
       "    }\n",
       "\n",
       "    .dataframe thead th {\n",
       "        text-align: right;\n",
       "    }\n",
       "</style>\n",
       "<table border=\"1\" class=\"dataframe\">\n",
       "  <thead>\n",
       "    <tr style=\"text-align: right;\">\n",
       "      <th></th>\n",
       "      <th>screen_size</th>\n",
       "      <th>ROM</th>\n",
       "      <th>RAM</th>\n",
       "      <th>num_rear_camera</th>\n",
       "      <th>num_front_camera</th>\n",
       "      <th>battery_capacity</th>\n",
       "      <th>ratings</th>\n",
       "      <th>num_of_ratings</th>\n",
       "      <th>sales_price</th>\n",
       "      <th>discount_percent</th>\n",
       "      <th>sales</th>\n",
       "      <th>idx</th>\n",
       "    </tr>\n",
       "  </thead>\n",
       "  <tbody>\n",
       "    <tr>\n",
       "      <th>0</th>\n",
       "      <td>Medium</td>\n",
       "      <td>128</td>\n",
       "      <td>6</td>\n",
       "      <td>2</td>\n",
       "      <td>1</td>\n",
       "      <td>4000</td>\n",
       "      <td>4.6</td>\n",
       "      <td>122001</td>\n",
       "      <td>18999</td>\n",
       "      <td>0.09</td>\n",
       "      <td>231.79</td>\n",
       "      <td>14.0</td>\n",
       "    </tr>\n",
       "    <tr>\n",
       "      <th>1</th>\n",
       "      <td>Large</td>\n",
       "      <td>128</td>\n",
       "      <td>6</td>\n",
       "      <td>4</td>\n",
       "      <td>2</td>\n",
       "      <td>4500</td>\n",
       "      <td>4.5</td>\n",
       "      <td>267028</td>\n",
       "      <td>15999</td>\n",
       "      <td>0.20</td>\n",
       "      <td>427.22</td>\n",
       "      <td>17.5</td>\n",
       "    </tr>\n",
       "  </tbody>\n",
       "</table>\n",
       "</div>"
      ],
      "text/plain": [
       "  screen_size  ROM  RAM  num_rear_camera  num_front_camera  battery_capacity  \\\n",
       "0      Medium  128    6                2                 1              4000   \n",
       "1       Large  128    6                4                 2              4500   \n",
       "\n",
       "   ratings  num_of_ratings  sales_price  discount_percent   sales   idx  \n",
       "0      4.6          122001        18999              0.09  231.79  14.0  \n",
       "1      4.5          267028        15999              0.20  427.22  17.5  "
      ]
     },
     "execution_count": 12,
     "metadata": {},
     "output_type": "execute_result"
    }
   ],
   "source": [
    "df_q1.head(2)"
   ]
  },
  {
   "cell_type": "code",
   "execution_count": 13,
   "id": "a751f8fa",
   "metadata": {},
   "outputs": [
    {
     "data": {
      "text/plain": [
       "11.01"
      ]
     },
     "execution_count": 13,
     "metadata": {},
     "output_type": "execute_result"
    }
   ],
   "source": [
    "round(df_q1[\"idx\"].mean(), 2)"
   ]
  },
  {
   "cell_type": "markdown",
   "id": "320be9f7",
   "metadata": {},
   "source": [
    "### Q2."
   ]
  },
  {
   "cell_type": "code",
   "execution_count": 16,
   "id": "02bd7a66",
   "metadata": {},
   "outputs": [],
   "source": [
    "df_q2 = df.loc[df[\"num_rear_camera\"] != 1, \"battery_capacity\":]"
   ]
  },
  {
   "cell_type": "code",
   "execution_count": 17,
   "id": "9887f6f7",
   "metadata": {},
   "outputs": [
    {
     "data": {
      "text/html": [
       "<div>\n",
       "<style scoped>\n",
       "    .dataframe tbody tr th:only-of-type {\n",
       "        vertical-align: middle;\n",
       "    }\n",
       "\n",
       "    .dataframe tbody tr th {\n",
       "        vertical-align: top;\n",
       "    }\n",
       "\n",
       "    .dataframe thead th {\n",
       "        text-align: right;\n",
       "    }\n",
       "</style>\n",
       "<table border=\"1\" class=\"dataframe\">\n",
       "  <thead>\n",
       "    <tr style=\"text-align: right;\">\n",
       "      <th></th>\n",
       "      <th>battery_capacity</th>\n",
       "      <th>ratings</th>\n",
       "      <th>num_of_ratings</th>\n",
       "      <th>sales_price</th>\n",
       "      <th>discount_percent</th>\n",
       "      <th>sales</th>\n",
       "    </tr>\n",
       "  </thead>\n",
       "  <tbody>\n",
       "    <tr>\n",
       "      <th>1</th>\n",
       "      <td>2815</td>\n",
       "      <td>4.5</td>\n",
       "      <td>244</td>\n",
       "      <td>57149</td>\n",
       "      <td>0.04</td>\n",
       "      <td>1.39</td>\n",
       "    </tr>\n",
       "    <tr>\n",
       "      <th>4</th>\n",
       "      <td>2815</td>\n",
       "      <td>4.6</td>\n",
       "      <td>745</td>\n",
       "      <td>69149</td>\n",
       "      <td>0.02</td>\n",
       "      <td>5.15</td>\n",
       "    </tr>\n",
       "  </tbody>\n",
       "</table>\n",
       "</div>"
      ],
      "text/plain": [
       "   battery_capacity  ratings  num_of_ratings  sales_price  discount_percent  \\\n",
       "1              2815      4.5             244        57149              0.04   \n",
       "4              2815      4.6             745        69149              0.02   \n",
       "\n",
       "   sales  \n",
       "1   1.39  \n",
       "4   5.15  "
      ]
     },
     "execution_count": 17,
     "metadata": {},
     "output_type": "execute_result"
    }
   ],
   "source": [
    "df_q2.head(2)"
   ]
  },
  {
   "cell_type": "code",
   "execution_count": 23,
   "id": "38c26145",
   "metadata": {},
   "outputs": [
    {
     "data": {
      "text/plain": [
       "0.95"
      ]
     },
     "execution_count": 23,
     "metadata": {},
     "output_type": "execute_result"
    }
   ],
   "source": [
    "round(df_q2.corr()[\"sales\"][:-1].abs().max(), 2)"
   ]
  },
  {
   "cell_type": "code",
   "execution_count": 25,
   "id": "6d359221",
   "metadata": {},
   "outputs": [
    {
     "data": {
      "text/plain": [
       "0.95"
      ]
     },
     "execution_count": 25,
     "metadata": {},
     "output_type": "execute_result"
    }
   ],
   "source": [
    "df_q2.corr()[\"sales\"][:-1].abs().round(2).max()"
   ]
  },
  {
   "cell_type": "markdown",
   "id": "b3eb091b",
   "metadata": {},
   "source": [
    "### Q3"
   ]
  },
  {
   "cell_type": "code",
   "execution_count": 27,
   "id": "aa925691",
   "metadata": {},
   "outputs": [
    {
     "data": {
      "text/html": [
       "<div>\n",
       "<style scoped>\n",
       "    .dataframe tbody tr th:only-of-type {\n",
       "        vertical-align: middle;\n",
       "    }\n",
       "\n",
       "    .dataframe tbody tr th {\n",
       "        vertical-align: top;\n",
       "    }\n",
       "\n",
       "    .dataframe thead th {\n",
       "        text-align: right;\n",
       "    }\n",
       "</style>\n",
       "<table border=\"1\" class=\"dataframe\">\n",
       "  <thead>\n",
       "    <tr style=\"text-align: right;\">\n",
       "      <th></th>\n",
       "      <th>sales</th>\n",
       "      <th>screen_size</th>\n",
       "      <th>ROM</th>\n",
       "      <th>RAM</th>\n",
       "      <th>num_rear_camera</th>\n",
       "      <th>num_front_camera</th>\n",
       "      <th>battery_capacity</th>\n",
       "      <th>ratings</th>\n",
       "      <th>num_of_ratings</th>\n",
       "      <th>sales_price</th>\n",
       "      <th>discount_percent</th>\n",
       "    </tr>\n",
       "  </thead>\n",
       "  <tbody>\n",
       "    <tr>\n",
       "      <th>0</th>\n",
       "      <td>127.52</td>\n",
       "      <td>Very Small</td>\n",
       "      <td>64</td>\n",
       "      <td>2</td>\n",
       "      <td>1</td>\n",
       "      <td>1</td>\n",
       "      <td>1800</td>\n",
       "      <td>4.5</td>\n",
       "      <td>38645</td>\n",
       "      <td>32999</td>\n",
       "      <td>0.17</td>\n",
       "    </tr>\n",
       "    <tr>\n",
       "      <th>1</th>\n",
       "      <td>1.39</td>\n",
       "      <td>Small</td>\n",
       "      <td>64</td>\n",
       "      <td>4</td>\n",
       "      <td>2</td>\n",
       "      <td>1</td>\n",
       "      <td>2815</td>\n",
       "      <td>4.5</td>\n",
       "      <td>244</td>\n",
       "      <td>57149</td>\n",
       "      <td>0.04</td>\n",
       "    </tr>\n",
       "  </tbody>\n",
       "</table>\n",
       "</div>"
      ],
      "text/plain": [
       "    sales screen_size  ROM  RAM  num_rear_camera  num_front_camera  \\\n",
       "0  127.52  Very Small   64    2                1                 1   \n",
       "1    1.39       Small   64    4                2                 1   \n",
       "\n",
       "   battery_capacity  ratings  num_of_ratings  sales_price  discount_percent  \n",
       "0              1800      4.5           38645        32999              0.17  \n",
       "1              2815      4.5             244        57149              0.04  "
      ]
     },
     "execution_count": 27,
     "metadata": {},
     "output_type": "execute_result"
    }
   ],
   "source": [
    "df_q3 = df.set_index(\"sales\").reset_index()\n",
    "df_q3.head(2)"
   ]
  },
  {
   "cell_type": "code",
   "execution_count": 34,
   "id": "700fa725",
   "metadata": {},
   "outputs": [],
   "source": [
    "# df_q3_dum = pd.get_dummies(df_q3, columns = [\"screen_size\", \"num_rear_camera\"])\n",
    "# df_q3_dum.head(2)"
   ]
  },
  {
   "cell_type": "code",
   "execution_count": 35,
   "id": "017a8009",
   "metadata": {},
   "outputs": [
    {
     "data": {
      "text/html": [
       "<div>\n",
       "<style scoped>\n",
       "    .dataframe tbody tr th:only-of-type {\n",
       "        vertical-align: middle;\n",
       "    }\n",
       "\n",
       "    .dataframe tbody tr th {\n",
       "        vertical-align: top;\n",
       "    }\n",
       "\n",
       "    .dataframe thead th {\n",
       "        text-align: right;\n",
       "    }\n",
       "</style>\n",
       "<table border=\"1\" class=\"dataframe\">\n",
       "  <thead>\n",
       "    <tr style=\"text-align: right;\">\n",
       "      <th></th>\n",
       "      <th>sales</th>\n",
       "      <th>ROM</th>\n",
       "      <th>RAM</th>\n",
       "      <th>num_rear_camera</th>\n",
       "      <th>num_front_camera</th>\n",
       "      <th>battery_capacity</th>\n",
       "      <th>ratings</th>\n",
       "      <th>num_of_ratings</th>\n",
       "      <th>sales_price</th>\n",
       "      <th>discount_percent</th>\n",
       "      <th>screen_size_Large</th>\n",
       "      <th>screen_size_Medium</th>\n",
       "      <th>screen_size_Small</th>\n",
       "      <th>screen_size_Very Large</th>\n",
       "      <th>screen_size_Very Small</th>\n",
       "    </tr>\n",
       "  </thead>\n",
       "  <tbody>\n",
       "    <tr>\n",
       "      <th>0</th>\n",
       "      <td>127.52</td>\n",
       "      <td>64</td>\n",
       "      <td>2</td>\n",
       "      <td>1</td>\n",
       "      <td>1</td>\n",
       "      <td>1800</td>\n",
       "      <td>4.5</td>\n",
       "      <td>38645</td>\n",
       "      <td>32999</td>\n",
       "      <td>0.17</td>\n",
       "      <td>0</td>\n",
       "      <td>0</td>\n",
       "      <td>0</td>\n",
       "      <td>0</td>\n",
       "      <td>1</td>\n",
       "    </tr>\n",
       "    <tr>\n",
       "      <th>1</th>\n",
       "      <td>1.39</td>\n",
       "      <td>64</td>\n",
       "      <td>4</td>\n",
       "      <td>2</td>\n",
       "      <td>1</td>\n",
       "      <td>2815</td>\n",
       "      <td>4.5</td>\n",
       "      <td>244</td>\n",
       "      <td>57149</td>\n",
       "      <td>0.04</td>\n",
       "      <td>0</td>\n",
       "      <td>0</td>\n",
       "      <td>1</td>\n",
       "      <td>0</td>\n",
       "      <td>0</td>\n",
       "    </tr>\n",
       "  </tbody>\n",
       "</table>\n",
       "</div>"
      ],
      "text/plain": [
       "    sales  ROM  RAM  num_rear_camera  num_front_camera  battery_capacity  \\\n",
       "0  127.52   64    2                1                 1              1800   \n",
       "1    1.39   64    4                2                 1              2815   \n",
       "\n",
       "   ratings  num_of_ratings  sales_price  discount_percent  screen_size_Large  \\\n",
       "0      4.5           38645        32999              0.17                  0   \n",
       "1      4.5             244        57149              0.04                  0   \n",
       "\n",
       "   screen_size_Medium  screen_size_Small  screen_size_Very Large  \\\n",
       "0                   0                  0                       0   \n",
       "1                   0                  1                       0   \n",
       "\n",
       "   screen_size_Very Small  \n",
       "0                       1  \n",
       "1                       0  "
      ]
     },
     "execution_count": 35,
     "metadata": {},
     "output_type": "execute_result"
    }
   ],
   "source": [
    "df_q3_dum = pd.get_dummies(df_q3, columns = [\"screen_size\"])\n",
    "df_q3_dum.head(2)"
   ]
  },
  {
   "cell_type": "code",
   "execution_count": 31,
   "id": "ab4394e2",
   "metadata": {},
   "outputs": [
    {
     "data": {
      "text/plain": [
       "Index(['sales', 'ROM', 'RAM', 'num_rear_camera', 'num_front_camera',\n",
       "       'battery_capacity', 'ratings', 'num_of_ratings', 'sales_price',\n",
       "       'discount_percent', 'screen_size_Large', 'screen_size_Medium',\n",
       "       'screen_size_Small', 'screen_size_Very Large',\n",
       "       'screen_size_Very Small'],\n",
       "      dtype='object')"
      ]
     },
     "execution_count": 31,
     "metadata": {},
     "output_type": "execute_result"
    }
   ],
   "source": [
    "df_q3_dum.columns # 변수명에 띄어쓰기가 있는 경우 모델링시 문제 발생 가능."
   ]
  },
  {
   "cell_type": "code",
   "execution_count": 36,
   "id": "174f6267",
   "metadata": {
    "collapsed": true
   },
   "outputs": [
    {
     "data": {
      "text/plain": [
       "Index(['sales', 'ROM', 'RAM', 'num_rear_camera', 'num_front_camera',\n",
       "       'battery_capacity', 'ratings', 'num_of_ratings', 'sales_price',\n",
       "       'discount_percent', 'screen_size_Large', 'screen_size_Medium',\n",
       "       'screen_size_Small', 'screen_size_Very_Large',\n",
       "       'screen_size_Very_Small'],\n",
       "      dtype='object')"
      ]
     },
     "execution_count": 36,
     "metadata": {},
     "output_type": "execute_result"
    }
   ],
   "source": [
    "df_q3_dum.columns.str.replace(\" \", \"_\")"
   ]
  },
  {
   "cell_type": "code",
   "execution_count": 37,
   "id": "6ad95515",
   "metadata": {},
   "outputs": [
    {
     "data": {
      "text/plain": [
       "(430, 15)"
      ]
     },
     "execution_count": 37,
     "metadata": {},
     "output_type": "execute_result"
    }
   ],
   "source": [
    "df_q3_dum.shape"
   ]
  },
  {
   "cell_type": "code",
   "execution_count": 38,
   "id": "e39c184c",
   "metadata": {},
   "outputs": [],
   "source": [
    "df_train, df_test = train_test_split(df_q3_dum, train_size = 0.8, random_state = 123)"
   ]
  },
  {
   "cell_type": "code",
   "execution_count": 41,
   "id": "ccbfc67d",
   "metadata": {},
   "outputs": [],
   "source": [
    "model_nor = MinMaxScaler()\n",
    "model_nor.fit(df_train)\n",
    "arr_train_nor = model_nor.transform(df_train)\n",
    "arr_test_nor  = model_nor.transform(df_test)\n",
    "\n",
    "df_train_nor = pd.DataFrame(arr_train_nor, columns = df_train.columns)\n",
    "df_test_nor  = pd.DataFrame(arr_test_nor,  columns = df_train.columns)"
   ]
  },
  {
   "cell_type": "code",
   "execution_count": 42,
   "id": "321b43d4",
   "metadata": {},
   "outputs": [
    {
     "data": {
      "text/html": [
       "<div>\n",
       "<style scoped>\n",
       "    .dataframe tbody tr th:only-of-type {\n",
       "        vertical-align: middle;\n",
       "    }\n",
       "\n",
       "    .dataframe tbody tr th {\n",
       "        vertical-align: top;\n",
       "    }\n",
       "\n",
       "    .dataframe thead th {\n",
       "        text-align: right;\n",
       "    }\n",
       "</style>\n",
       "<table border=\"1\" class=\"dataframe\">\n",
       "  <thead>\n",
       "    <tr style=\"text-align: right;\">\n",
       "      <th></th>\n",
       "      <th>sales</th>\n",
       "      <th>ROM</th>\n",
       "      <th>RAM</th>\n",
       "      <th>num_rear_camera</th>\n",
       "      <th>num_front_camera</th>\n",
       "      <th>battery_capacity</th>\n",
       "      <th>ratings</th>\n",
       "      <th>num_of_ratings</th>\n",
       "      <th>sales_price</th>\n",
       "      <th>discount_percent</th>\n",
       "      <th>screen_size_Large</th>\n",
       "      <th>screen_size_Medium</th>\n",
       "      <th>screen_size_Small</th>\n",
       "      <th>screen_size_Very Large</th>\n",
       "      <th>screen_size_Very Small</th>\n",
       "    </tr>\n",
       "  </thead>\n",
       "  <tbody>\n",
       "    <tr>\n",
       "      <th>0</th>\n",
       "      <td>0.003948</td>\n",
       "      <td>0.047619</td>\n",
       "      <td>0.181818</td>\n",
       "      <td>0.333333</td>\n",
       "      <td>0.0</td>\n",
       "      <td>0.423077</td>\n",
       "      <td>0.625</td>\n",
       "      <td>0.003963</td>\n",
       "      <td>0.026073</td>\n",
       "      <td>0.093023</td>\n",
       "      <td>0.0</td>\n",
       "      <td>0.0</td>\n",
       "      <td>1.0</td>\n",
       "      <td>0.0</td>\n",
       "      <td>0.0</td>\n",
       "    </tr>\n",
       "    <tr>\n",
       "      <th>1</th>\n",
       "      <td>0.052148</td>\n",
       "      <td>0.238095</td>\n",
       "      <td>0.181818</td>\n",
       "      <td>0.000000</td>\n",
       "      <td>0.0</td>\n",
       "      <td>0.219615</td>\n",
       "      <td>1.000</td>\n",
       "      <td>0.011387</td>\n",
       "      <td>0.273927</td>\n",
       "      <td>0.186047</td>\n",
       "      <td>0.0</td>\n",
       "      <td>1.0</td>\n",
       "      <td>0.0</td>\n",
       "      <td>0.0</td>\n",
       "      <td>0.0</td>\n",
       "    </tr>\n",
       "  </tbody>\n",
       "</table>\n",
       "</div>"
      ],
      "text/plain": [
       "      sales       ROM       RAM  num_rear_camera  num_front_camera  \\\n",
       "0  0.003948  0.047619  0.181818         0.333333               0.0   \n",
       "1  0.052148  0.238095  0.181818         0.000000               0.0   \n",
       "\n",
       "   battery_capacity  ratings  num_of_ratings  sales_price  discount_percent  \\\n",
       "0          0.423077    0.625        0.003963     0.026073          0.093023   \n",
       "1          0.219615    1.000        0.011387     0.273927          0.186047   \n",
       "\n",
       "   screen_size_Large  screen_size_Medium  screen_size_Small  \\\n",
       "0                0.0                 0.0                1.0   \n",
       "1                0.0                 1.0                0.0   \n",
       "\n",
       "   screen_size_Very Large  screen_size_Very Small  \n",
       "0                     0.0                     0.0  \n",
       "1                     0.0                     0.0  "
      ]
     },
     "execution_count": 42,
     "metadata": {},
     "output_type": "execute_result"
    }
   ],
   "source": [
    "df_train_nor.head(2)"
   ]
  },
  {
   "cell_type": "code",
   "execution_count": 50,
   "id": "d5cece72",
   "metadata": {},
   "outputs": [
    {
     "data": {
      "text/plain": [
       "0.08186677375964535"
      ]
     },
     "execution_count": 50,
     "metadata": {},
     "output_type": "execute_result"
    }
   ],
   "source": [
    "k = 3\n",
    "\n",
    "model_knn = KNeighborsRegressor(n_neighbors = k)\n",
    "model_knn.fit(X = arr_train_nor[:, 1:],\n",
    "              y = arr_test_nor[:, 0])\n",
    "pred = model_knn.predict(arr_test_nor[:, 1:])\n",
    "mean_squared_error(y_true = arr_test_nor[:, 0], y_pred = pred) ** 0.5"
   ]
  },
  {
   "cell_type": "code",
   "execution_count": 46,
   "id": "b4780e50",
   "metadata": {},
   "outputs": [
    {
     "data": {
      "text/plain": [
       "0.08186677375964535"
      ]
     },
     "execution_count": 46,
     "metadata": {},
     "output_type": "execute_result"
    }
   ],
   "source": [
    "k = 3\n",
    "\n",
    "model_knn = KNeighborsRegressor(n_neighbors = k)\n",
    "model_knn.fit(X = df_train_nor.drop(\"sales\", axis = 1),\n",
    "              y = df_train_nor[\"sales\"])\n",
    "pred = model_knn.predict(df_test_nor.drop(\"sales\", axis = 1))\n",
    "mean_squared_error(y_true = df_test_nor[\"sales\"], y_pred = pred) ** 0.5"
   ]
  },
  {
   "cell_type": "code",
   "execution_count": 47,
   "id": "a3330f44",
   "metadata": {},
   "outputs": [],
   "source": [
    "ls_rmse = []\n",
    "\n",
    "for k in [3, 5, 7, 9, 11]:\n",
    "    model_knn = KNeighborsRegressor(n_neighbors = k)\n",
    "    model_knn.fit(X = df_train_nor.drop(\"sales\", axis = 1),\n",
    "                  y = df_train_nor[\"sales\"])\n",
    "    pred = model_knn.predict(df_test_nor.drop(\"sales\", axis = 1))\n",
    "    val_rmse = mean_squared_error(y_true = df_test_nor[\"sales\"], y_pred = pred) ** 0.5\n",
    "    ls_rmse = ls_rmse + [val_rmse]"
   ]
  },
  {
   "cell_type": "code",
   "execution_count": 48,
   "id": "ff1a243b",
   "metadata": {},
   "outputs": [
    {
     "data": {
      "text/plain": [
       "[0.08186677375964535,\n",
       " 0.09879109824384892,\n",
       " 0.107669855645971,\n",
       " 0.11232111394853059,\n",
       " 0.1136902366621185]"
      ]
     },
     "execution_count": 48,
     "metadata": {},
     "output_type": "execute_result"
    }
   ],
   "source": [
    "ls_rmse"
   ]
  },
  {
   "cell_type": "code",
   "execution_count": 56,
   "id": "0ab568ca",
   "metadata": {},
   "outputs": [
    {
     "data": {
      "text/plain": [
       "29               cat\n",
       "30              clip\n",
       "31           combine\n",
       "32     combine_first\n",
       "33           compare\n",
       "34    convert_dtypes\n",
       "35              copy\n",
       "36              corr\n",
       "37             count\n",
       "38               cov\n",
       "39            cummax\n",
       "40            cummin\n",
       "41           cumprod\n",
       "42            cumsum\n",
       "dtype: object"
      ]
     },
     "execution_count": 56,
     "metadata": {},
     "output_type": "execute_result"
    }
   ],
   "source": [
    "ser_method = pd.Series([method for method in dir(pd.Series) if method[0] != \"_\"])\n",
    "ser_method[ser_method.str.contains(\"^c\")]"
   ]
  }
 ],
 "metadata": {
  "kernelspec": {
   "display_name": "Python 3 (ipykernel)",
   "language": "python",
   "name": "python3"
  },
  "language_info": {
   "codemirror_mode": {
    "name": "ipython",
    "version": 3
   },
   "file_extension": ".py",
   "mimetype": "text/x-python",
   "name": "python",
   "nbconvert_exporter": "python",
   "pygments_lexer": "ipython3",
   "version": "3.7.4"
  }
 },
 "nbformat": 4,
 "nbformat_minor": 5
}
